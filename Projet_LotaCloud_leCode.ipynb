{
 "cells": [
  {
   "cell_type": "markdown",
   "id": "01c89309",
   "metadata": {},
   "source": [
    "**| /!\\ LA METHODE 5 EST LA SEULE UTILE /!\\ |**"
   ]
  },
  {
   "cell_type": "markdown",
   "id": "c372446b",
   "metadata": {
    "heading_collapsed": true
   },
   "source": [
    "# Library and DataFrame"
   ]
  },
  {
   "cell_type": "code",
   "execution_count": 1,
   "id": "5219a753",
   "metadata": {
    "ExecuteTime": {
     "end_time": "2024-06-12T07:10:49.857047Z",
     "start_time": "2024-06-12T07:10:49.610513Z"
    },
    "hidden": true
   },
   "outputs": [],
   "source": [
    "import pandas as pd \n",
    "import numpy as np"
   ]
  },
  {
   "cell_type": "code",
   "execution_count": 2,
   "id": "b4db9525",
   "metadata": {
    "ExecuteTime": {
     "end_time": "2024-06-12T07:10:54.111892Z",
     "start_time": "2024-06-12T07:10:49.857047Z"
    },
    "hidden": true
   },
   "outputs": [
    {
     "name": "stderr",
     "output_type": "stream",
     "text": [
      "C:\\Users\\saral\\AppData\\Local\\Temp\\ipykernel_13372\\2607834369.py:1: DtypeWarning: Columns (27,28) have mixed types. Specify dtype option on import or set low_memory=False.\n",
      "  df_april=pd.read_csv(r'azure_april_24.csv')\n",
      "C:\\Users\\saral\\AppData\\Local\\Temp\\ipykernel_13372\\2607834369.py:2: DtypeWarning: Columns (27,28) have mixed types. Specify dtype option on import or set low_memory=False.\n",
      "  df_may=pd.read_csv(r'azure_may_24.csv')\n"
     ]
    }
   ],
   "source": [
    "df_april=pd.read_csv(r'azure_april_24.csv')\n",
    "df_may=pd.read_csv(r'azure_may_24.csv')\n",
    "df_vm=pd.read_csv(r'Informations_calcul - kWh_vm.csv')\n",
    "df_geo=pd.read_csv(r'Informations_calcul - CO2_geo.csv')\n",
    "df_ville=pd.read_csv(r'Informations_calcul - villes.csv')\n",
    "df_price=pd.read_csv(r'Informations_calcul - price.csv')"
   ]
  },
  {
   "cell_type": "markdown",
   "id": "dba71170",
   "metadata": {
    "heading_collapsed": true
   },
   "source": [
    "# Visualisation du DataFrame"
   ]
  },
  {
   "cell_type": "code",
   "execution_count": 3,
   "id": "1b0a5611",
   "metadata": {
    "ExecuteTime": {
     "end_time": "2024-06-12T07:10:54.326298Z",
     "start_time": "2024-06-12T07:10:54.111892Z"
    },
    "hidden": true
   },
   "outputs": [
    {
     "name": "stdout",
     "output_type": "stream",
     "text": [
      "<class 'pandas.core.frame.DataFrame'>\n",
      "RangeIndex: 381693 entries, 0 to 381692\n",
      "Data columns (total 55 columns):\n",
      " #   Column                  Non-Null Count   Dtype  \n",
      "---  ------                  --------------   -----  \n",
      " 0   InvoiceSectionName      381693 non-null  object \n",
      " 1   AccountName             381693 non-null  object \n",
      " 2   AccountOwnerId          381693 non-null  object \n",
      " 3   SubscriptionId          381693 non-null  object \n",
      " 4   SubscriptionName        381693 non-null  object \n",
      " 5   ResourceGroup           381159 non-null  object \n",
      " 6   ResourceLocation        381674 non-null  object \n",
      " 7   Date                    381693 non-null  object \n",
      " 8   ProductName             381693 non-null  object \n",
      " 9   MeterCategory           381693 non-null  object \n",
      " 10  MeterSubCategory        256294 non-null  object \n",
      " 11  MeterId                 381693 non-null  object \n",
      " 12  MeterName               381693 non-null  object \n",
      " 13  MeterRegion             186868 non-null  object \n",
      " 14  UnitOfMeasure           381693 non-null  object \n",
      " 15  Quantity                381693 non-null  float64\n",
      " 16  EffectivePrice          381693 non-null  float64\n",
      " 17  CostInBillingCurrency   381693 non-null  float64\n",
      " 18  CostCenter              381693 non-null  object \n",
      " 19  ConsumedService         381691 non-null  object \n",
      " 20  ResourceId              381691 non-null  object \n",
      " 21  Tags                    334819 non-null  object \n",
      " 22  OfferId                 381663 non-null  object \n",
      " 23  AdditionalInfo          120667 non-null  object \n",
      " 24  ServiceInfo1            0 non-null       float64\n",
      " 25  ServiceInfo2            7397 non-null    object \n",
      " 26  ResourceName            381159 non-null  object \n",
      " 27  ReservationId           5376 non-null    object \n",
      " 28  ReservationName         5376 non-null    object \n",
      " 29  UnitPrice               381693 non-null  float64\n",
      " 30  ProductOrderId          17114 non-null   object \n",
      " 31  ProductOrderName        17009 non-null   object \n",
      " 32  Term                    17114 non-null   float64\n",
      " 33  PublisherType           381693 non-null  object \n",
      " 34  PublisherName           376313 non-null  object \n",
      " 35  ChargeType              381693 non-null  object \n",
      " 36  Frequency               381693 non-null  object \n",
      " 37  PricingModel            381693 non-null  object \n",
      " 38  AvailabilityZone        0 non-null       float64\n",
      " 39  BillingAccountId        381693 non-null  int64  \n",
      " 40  BillingAccountName      381693 non-null  object \n",
      " 41  BillingCurrencyCode     381693 non-null  object \n",
      " 42  BillingPeriodStartDate  381693 non-null  object \n",
      " 43  BillingPeriodEndDate    381693 non-null  object \n",
      " 44  BillingProfileId        381693 non-null  int64  \n",
      " 45  BillingProfileName      381693 non-null  object \n",
      " 46  InvoiceSectionId        0 non-null       float64\n",
      " 47  IsAzureCreditEligible   381693 non-null  bool   \n",
      " 48  PartNumber              381687 non-null  object \n",
      " 49  PayGPrice               381693 non-null  float64\n",
      " 50  PlanName                376313 non-null  object \n",
      " 51  ServiceFamily           381693 non-null  object \n",
      " 52  CostAllocationRuleName  0 non-null       float64\n",
      " 53  benefitId               17114 non-null   object \n",
      " 54  benefitName             17114 non-null   object \n",
      "dtypes: bool(1), float64(10), int64(2), object(42)\n",
      "memory usage: 157.6+ MB\n"
     ]
    }
   ],
   "source": [
    "df_may.info()"
   ]
  },
  {
   "cell_type": "markdown",
   "id": "5d9b9052",
   "metadata": {
    "hidden": true
   },
   "source": [
    "Chaque DataFrame correspond au \"ticket de caisse\" de client.\n",
    "Nous voulons nous, utiliser ces informations afin de calculer l'empreinte carbone de ce client. Pour cela nous choisissons les colonnes importantes et les renommons afin qu'elles collent avec celles utilisées par LotaCloud."
   ]
  },
  {
   "cell_type": "code",
   "execution_count": 4,
   "id": "3aace555",
   "metadata": {
    "ExecuteTime": {
     "end_time": "2024-06-12T07:10:54.331677Z",
     "start_time": "2024-06-12T07:10:54.327368Z"
    },
    "hidden": true
   },
   "outputs": [],
   "source": [
    "\"\"\"\n",
    "Séléction des colonnes utilisées par lotacloud\n",
    "\"\"\"\n",
    "\"\"\"\n",
    "Nous avons aussi ajouté 3 colonnes qui ous permetterons de calculer l'empreinte\n",
    "carbonne : \n",
    "    CO2/kWh : Consomation de CO2 par kWh, cette information va être retrouvée\n",
    "              grâce aux pays, en effet la colonne 'region' nous permet de \n",
    "              retrouver l'information.\n",
    "    \n",
    "    kWh : énergie utilisée par ressource.\n",
    "          Cette information est plus difficile à trouver mais sans elle,\n",
    "          il nous est impossible de calculer l'empreinte carbone.\n",
    "          Pour calculer cette valeure nous avons utilisés plusieurs méthodes \n",
    "          que nous détaillerons par la suite\n",
    "          \n",
    "    CO2 : Gramme de CO2 relaché par ressource.\n",
    "\"\"\"\n",
    "def clean_columns(df) :\n",
    "    df_copy = df.copy()\n",
    "    df_copy = pd.DataFrame({ \n",
    "                     'usageAccountId' : df['AccountOwnerId'], \n",
    "                     'region' : df['ResourceLocation'], \n",
    "                     'region2' : df['MeterRegion'],\n",
    "                     'endDate' : df['Date'],\n",
    "                     'startDate' : df['Date'],\n",
    "                     'productCode' : df['ConsumedService'],\n",
    "                     'description' : df['ProductName'],\n",
    "                     'usageType' : df['MeterName'],\n",
    "                     'usageQuantityUnit' : df['UnitOfMeasure'],\n",
    "                     'cost' : '',# : df_may['QuantityUnit'],\n",
    "                     'usageQuantity' : df['Quantity'],\n",
    "                     'costCenter' : df['CostCenter'],\n",
    "                     'serviceCode' : df['MeterCategory'],\n",
    "                     'tags' : df['Tags'],\n",
    "                     'resourceId' : df['ResourceName'],\n",
    "                     'provider' : df['PublisherType'],\n",
    "                     'itemType' : df['ChargeType'],\n",
    "                     'currency' : df['BillingCurrencyCode'],\n",
    "                     'resourceGroup' : df['ResourceGroup'],\n",
    "                     'subscriptionName' : df['SubscriptionName'],\n",
    "                     'CO2/kWh' : 0,\n",
    "                     'kWh' : 0,\n",
    "                     'CO2' : 0,\n",
    "                    })\n",
    "    return df_copy\n",
    "\n"
   ]
  },
  {
   "cell_type": "markdown",
   "id": "1bda5724",
   "metadata": {
    "heading_collapsed": true
   },
   "source": [
    "# Première méthode de calcul (pas utile)"
   ]
  },
  {
   "cell_type": "markdown",
   "id": "2581fe8e",
   "metadata": {
    "hidden": true
   },
   "source": [
    "Nous avons regroupé toutes les informations utiles à ce calcul dans un csv appelé 'Informations_calcul'. Ce csv contient 2 pages : **CO2_geo** : Tableau donnant l'emprunte carbone globale des data center par pays.\n",
    "La deuxième page sera vu dans un second temps."
   ]
  },
  {
   "cell_type": "markdown",
   "id": "f2f74cbe",
   "metadata": {
    "hidden": true
   },
   "source": [
    "Pour la suite, nous avons travaillé sur 2 ressources différentes : les machines virtuelles et le stockage."
   ]
  },
  {
   "cell_type": "markdown",
   "id": "a571a743",
   "metadata": {
    "hidden": true
   },
   "source": [
    "## Calcul kWh"
   ]
  },
  {
   "cell_type": "markdown",
   "id": "d6aa847f",
   "metadata": {
    "hidden": true
   },
   "source": [
    "Pour les machines virtuelles nous avons tout d'abord utiliser la moyenne, le max et le min de la puissance des machines virtuelles trouvée. Pour le stockage nous avons pu convertir l'unité GB en kWh pour nos calculs."
   ]
  },
  {
   "cell_type": "code",
   "execution_count": 5,
   "id": "b3a13717",
   "metadata": {
    "ExecuteTime": {
     "end_time": "2024-06-12T07:10:54.338359Z",
     "start_time": "2024-06-12T07:10:54.333047Z"
    },
    "hidden": true
   },
   "outputs": [],
   "source": [
    "'''\n",
    "Cette fonction va permettre d'ajouter 3 colonnes correspondant \n",
    "    à la moyenne de la puissance utilisé en kWh, le min et le max.\n",
    "\n",
    " Avec nos sources\n",
    " Nous avons choisis  :\n",
    "     kW moyenne =  0.234\n",
    "     kW max = 0.4\n",
    "     kW min = 0.055\n",
    "     0.005kW = 1GB\n",
    "'''\n",
    "\n",
    "\"\"\"\n",
    "Ici nous ne remplissons pas la colonne kWh car nous avons choisit 3 valeurs \n",
    "différentes afin d'avoir une idée du comportement de la donnée\n",
    "\"\"\"\n",
    "\n",
    "def kWh_mmm(df) :\n",
    "    df.loc[:,'Mean_kWh'] = 0\n",
    "    df.loc[:,'Max_kWh'] = 0\n",
    "    df.loc[:,'Min_kWh'] = 0\n",
    "    \n",
    "    #Pour VM\n",
    "    df.loc[(df['usageQuantityUnit'] == \"1 Hour\") & \n",
    "           (df['serviceCode'].str.lower()=='virtual machines'), 'Mean_kWh'] = 0.234*df['usageQuantity']\n",
    "    df.loc[(df['usageQuantityUnit'] == \"1 Hour\") & \n",
    "           (df['serviceCode'].str.lower()=='virtual machines'), 'Max_kWh'] = 0.4*df['usageQuantity']\n",
    "    df.loc[(df['usageQuantityUnit'] == \"1 Hour\") & \n",
    "           (df['serviceCode'].str.lower()=='virtual machines'), 'Min_kWh'] = 0.055*df['usageQuantity']\n",
    "\n",
    "    \n",
    "    #Pour Storage\n",
    "    df.loc[(df['usageQuantityUnit'] == \"1 GB\") & \n",
    "           (df['serviceCode'].str.lower()=='storage'), 'Mean_kWh'] = df['usageQuantity']*0.005\n",
    "    \n",
    "    df.loc[(df['usageQuantityUnit'] == \"1 GB\") & \n",
    "           (df['serviceCode'].str.lower()=='storage'), 'Max_kWh'] = df['usageQuantity']*0.005\n",
    "    \n",
    "    df.loc[(df['usageQuantityUnit'] == \"1 GB\") & \n",
    "           (df['serviceCode'].str.lower()=='storage'), 'Min_kWh'] = df['usageQuantity']*0.005\n",
    "    \n",
    "    \n",
    "    df.loc[(df['usageQuantityUnit'] == \"1 GB/Month\") & \n",
    "           (df['serviceCode'].str.lower()=='storage'), 'Mean_kWh'] = df['usageQuantity']*0.005\n",
    "    \n",
    "    df.loc[(df['usageQuantityUnit'] == \"1 GB/Month\") & \n",
    "           (df['serviceCode'].str.lower()=='storage'), 'Max_kWh'] = df['usageQuantity']*0.005\n",
    "    \n",
    "    df.loc[(df['usageQuantityUnit'] == \"1 GB/Month\") & \n",
    "           (df['serviceCode'].str.lower()=='storage'), 'Min_kWh'] = df['usageQuantity']*0.005\n",
    "    \n",
    "    return df\n",
    "\n",
    "\n"
   ]
  },
  {
   "cell_type": "markdown",
   "id": "2d66bfbe",
   "metadata": {
    "hidden": true
   },
   "source": [
    "## CO2/kWh"
   ]
  },
  {
   "cell_type": "markdown",
   "id": "ff6cef8f",
   "metadata": {
    "hidden": true
   },
   "source": [
    "La fonction suivante ne dépend pas de la ressource mais de son emplacement géographique, en effet chaque pays produit de l'énergie différente et consomme une quantité différente de CO2, nous voulons donc associer chaque ressource au pays dans lequel son data center se situe."
   ]
  },
  {
   "cell_type": "code",
   "execution_count": 6,
   "id": "dabaf520",
   "metadata": {
    "ExecuteTime": {
     "end_time": "2024-06-12T07:10:54.342720Z",
     "start_time": "2024-06-12T07:10:54.339795Z"
    },
    "hidden": true
   },
   "outputs": [],
   "source": [
    "\"\"\"\n",
    "Ajout de l'information CO2/kWh dans sa colonne\n",
    "\"\"\"\n",
    "\"\"\"\n",
    "Ici nous utilisons le dataframe contenant les informations du CO2 émit par kWh\n",
    "\"\"\"\n",
    "\n",
    "def co2_kWh(df, df_geo, month):\n",
    "    df_copy = df.copy()\n",
    "    df_geo_copy = df_geo.copy()\n",
    "    for i in df_geo_copy['region'].value_counts().index :\n",
    "        co2= df_geo_copy[f'{month} gCO2e/kwh'][df_geo_copy['region']==i]\n",
    "        co2=co2.iloc[0]\n",
    "        df_copy.loc[df_copy['region'] == i, 'CO2/kWh'] = co2\n",
    "    \n",
    "    return df_copy\n"
   ]
  },
  {
   "cell_type": "markdown",
   "id": "7478ad42",
   "metadata": {
    "heading_collapsed": true,
    "hidden": true
   },
   "source": [
    "## Calcul CO2"
   ]
  },
  {
   "cell_type": "markdown",
   "id": "8156803a",
   "metadata": {
    "hidden": true
   },
   "source": [
    "Enfin calculons son empreinte carbonne en multipliant les colonnes."
   ]
  },
  {
   "cell_type": "code",
   "execution_count": 7,
   "id": "cb09ac28",
   "metadata": {
    "ExecuteTime": {
     "end_time": "2024-06-12T07:10:54.346722Z",
     "start_time": "2024-06-12T07:10:54.343933Z"
    },
    "hidden": true
   },
   "outputs": [],
   "source": [
    "\"\"\"\n",
    "Calcul pour le CO2 (mean, max, min)\n",
    "\"\"\"\n",
    "def co2_mmm(df):\n",
    "    df_copy = df.copy()\n",
    "    df_copy.loc[:,'Mean_CO2'] = 0\n",
    "    df_copy.loc[:,'Max_CO2'] = 0\n",
    "    df_copy.loc[:,'Min_CO2'] = 0\n",
    "    df_copy.loc[:, 'Mean_CO2'] = df_copy['Mean_kWh']*df_copy['CO2/kWh']\n",
    "    df_copy.loc[:, 'Max_CO2'] = df_copy['Max_kWh']*df_copy['CO2/kWh']\n",
    "    df_copy.loc[:, 'Min_CO2'] = df_copy['Min_kWh']*df_copy['CO2/kWh']\n",
    "    \n",
    "    return df_copy"
   ]
  },
  {
   "cell_type": "markdown",
   "id": "8fa7aed0",
   "metadata": {
    "hidden": true
   },
   "source": [
    "Utilisons maintenant toutes ces fonctions afin de créer notre premier csv contenant une approximation de l'emission de CO2."
   ]
  },
  {
   "cell_type": "code",
   "execution_count": 8,
   "id": "f1e6e496",
   "metadata": {
    "ExecuteTime": {
     "end_time": "2024-06-12T07:10:54.350073Z",
     "start_time": "2024-06-12T07:10:54.346722Z"
    },
    "hidden": true
   },
   "outputs": [],
   "source": [
    "def calcul_co2_mmm(df, df_geo, month) :\n",
    "    #Copie des Data frame\n",
    "        df_copy = df.copy()\n",
    "        df_geo_copy = df_geo.copy()\n",
    "        \n",
    "    #Filtre de colonnes \n",
    "        df_copy = clean_columns(df_copy)\n",
    "        \n",
    "    #Calculs kWh\n",
    "        df_copy = kWh_mmm(df_copy)\n",
    "    \n",
    "    #Ajout CO2/kWh\n",
    "        df_copy = co2_kWh(df_copy, df_geo_copy, month)\n",
    "        \n",
    "    #Calcul CO2\n",
    "        df_copy = co2_mmm(df_copy)\n",
    "        \n",
    "        return df_copy\n",
    "    "
   ]
  },
  {
   "cell_type": "markdown",
   "id": "a86a133c",
   "metadata": {
    "hidden": true
   },
   "source": [
    "## Création CSV pour graph"
   ]
  },
  {
   "cell_type": "code",
   "execution_count": 9,
   "id": "f066b000",
   "metadata": {
    "ExecuteTime": {
     "end_time": "2024-06-12T07:10:55.925300Z",
     "start_time": "2024-06-12T07:10:54.350073Z"
    },
    "hidden": true
   },
   "outputs": [],
   "source": [
    "avril_df_mmm = calcul_co2_mmm(df_april, df_geo, 'april')\n",
    "mai_df_mmm = calcul_co2_mmm(df_may, df_geo, 'may')"
   ]
  },
  {
   "cell_type": "markdown",
   "id": "0c6659d7",
   "metadata": {
    "ExecuteTime": {
     "end_time": "2024-06-10T10:46:18.631645Z",
     "start_time": "2024-06-10T10:46:18.455206Z"
    },
    "hidden": true
   },
   "source": [
    "Afin de pouvoir visualiser nos données avec des graphiques nous voulons maintenant concatener ces deux dataframe, garder uniquement les lignes correspondant aux VM et au Storage. Pour éviter une trop grande table nous gardons uniquement quelques colonnes choisies auparavant"
   ]
  },
  {
   "cell_type": "code",
   "execution_count": 10,
   "id": "d343ffa9",
   "metadata": {
    "ExecuteTime": {
     "end_time": "2024-06-12T07:10:56.287017Z",
     "start_time": "2024-06-12T07:10:55.925300Z"
    },
    "hidden": true
   },
   "outputs": [],
   "source": [
    "concat_avril_mai_mmm = pd.concat([avril_df_mmm, mai_df_mmm], ignore_index=True)\n",
    "concat_avril_mai_mmm = concat_avril_mai_mmm[['region', 'endDate', 'startDate', 'productCode', 'usageType', 'usageQuantityUnit',\n",
    "                              'usageQuantity', 'serviceCode', 'resourceId', 'itemType', 'CO2/kWh','Mean_kWh', 'Max_kWh',\n",
    "                                'Min_kWh','Mean_CO2','Max_CO2','Min_CO2']]\n",
    "concat_avril_mai_mmm= concat_avril_mai_mmm[(concat_avril_mai_mmm['serviceCode'].str.lower()=='virtual machines') | (concat_avril_mai_mmm['serviceCode'].str.lower()=='storage')]\n",
    "\n"
   ]
  },
  {
   "cell_type": "markdown",
   "id": "ac1e3d70",
   "metadata": {
    "ExecuteTime": {
     "end_time": "2024-06-10T10:52:40.171161Z",
     "start_time": "2024-06-10T10:52:40.154691Z"
    },
    "hidden": true
   },
   "source": [
    "On peut maintenant créer le csv et voir nos premiers graphiques"
   ]
  },
  {
   "cell_type": "code",
   "execution_count": 11,
   "id": "957c2743",
   "metadata": {
    "ExecuteTime": {
     "end_time": "2024-06-12T07:10:56.290527Z",
     "start_time": "2024-06-12T07:10:56.288042Z"
    },
    "hidden": true
   },
   "outputs": [],
   "source": [
    "#concat_avril_mai_mmm.to_csv('méthode1.csv', index=False)"
   ]
  },
  {
   "cell_type": "markdown",
   "id": "ffc524fc",
   "metadata": {
    "heading_collapsed": true
   },
   "source": [
    "# Deuxième méthode de calcul (pas utile)"
   ]
  },
  {
   "cell_type": "markdown",
   "id": "e5f82f6e",
   "metadata": {
    "hidden": true
   },
   "source": [
    "Dans cette partie nous utilisons le dataframe composé df_vm qui nous permet davoir les information sur l'energie de chaque machine virtuelle, nous n'utilisons donc pas la moyenne mais directement l'énergie utilisé par chaque machine virtuelle"
   ]
  },
  {
   "cell_type": "markdown",
   "id": "ed4228ad",
   "metadata": {
    "hidden": true
   },
   "source": [
    "## Fonctions utilisées précédement"
   ]
  },
  {
   "cell_type": "code",
   "execution_count": 12,
   "id": "9339359e",
   "metadata": {
    "ExecuteTime": {
     "end_time": "2024-06-12T07:10:56.312751Z",
     "start_time": "2024-06-12T07:10:56.291535Z"
    },
    "hidden": true
   },
   "outputs": [],
   "source": [
    "\"\"\"\n",
    "Séléction des colonnes utilisées par lotacloud\n",
    "\"\"\"\n",
    "def clean_columns(df) :\n",
    "    df_copy = df.copy()\n",
    "    df_copy = pd.DataFrame({ \n",
    "                     'usageAccountId' : df['AccountOwnerId'], \n",
    "                     'region' : df['ResourceLocation'], \n",
    "                     'region2' : df['MeterRegion'],\n",
    "                     'endDate' : df['Date'],\n",
    "                     'startDate' : df['Date'],\n",
    "                     'productCode' : df['ConsumedService'],\n",
    "                     'description' : df['ProductName'],\n",
    "                     'usageType' : df['MeterName'],\n",
    "                     'usageQuantityUnit' : df['UnitOfMeasure'],\n",
    "                     'cost' : '',# : df_may['QuantityUnit'],\n",
    "                     'usageQuantity' : df['Quantity'],\n",
    "                     'costCenter' : df['CostCenter'],\n",
    "                     'serviceCode' : df['MeterCategory'],\n",
    "                     'tags' : df['Tags'],\n",
    "                     'resourceId' : df['ResourceName'],\n",
    "                     'provider' : df['PublisherType'],\n",
    "                     'itemType' : df['ChargeType'],\n",
    "                     'currency' : df['BillingCurrencyCode'],\n",
    "                     'resourceGroup' : df['ResourceGroup'],\n",
    "                     'subscriptionName' : df['SubscriptionName'],\n",
    "                     'CO2/kWh' : 0,\n",
    "                     'kWh' : 0,\n",
    "                     'CO2' : 0,\n",
    "                    })\n",
    "    return df_copy"
   ]
  },
  {
   "cell_type": "code",
   "execution_count": 13,
   "id": "34c3100d",
   "metadata": {
    "ExecuteTime": {
     "end_time": "2024-06-12T07:10:56.317395Z",
     "start_time": "2024-06-12T07:10:56.315174Z"
    },
    "hidden": true
   },
   "outputs": [],
   "source": [
    "\"\"\"\n",
    "Ajout de l'information CO2/kWh dans sa colonne\n",
    "\"\"\"\n",
    "def co2_kWh(df, df_geo, month):\n",
    "    df_copy = df.copy()\n",
    "    df_geo_copy = df_geo.copy()\n",
    "    for i in df_geo_copy['region'].value_counts().index : # Verifier pour les valeures nul si pris en compte\n",
    "        co2= df_geo_copy[f'{month} gCO2e/kwh'][df_geo_copy['region']==i]\n",
    "        co2=co2.iloc[0]#Verifier si nombre\n",
    "        df_copy.loc[df_copy['region'] == i, 'CO2/kWh'] = co2\n",
    "    \n",
    "    return df_copy"
   ]
  },
  {
   "cell_type": "markdown",
   "id": "823c8fc2",
   "metadata": {
    "hidden": true
   },
   "source": [
    "## Calcul du kWh pour les VM et le Storage"
   ]
  },
  {
   "cell_type": "code",
   "execution_count": 14,
   "id": "73ca1273",
   "metadata": {
    "ExecuteTime": {
     "end_time": "2024-06-12T07:10:56.321533Z",
     "start_time": "2024-06-12T07:10:56.317395Z"
    },
    "hidden": true
   },
   "outputs": [],
   "source": [
    "\"\"\"\n",
    "Calcul du kWh pour les machines viruelles\n",
    "\"\"\"\n",
    "\"\"\"\n",
    "Ici nous récupérons juste les valeure calculer dans le csv (RAM + CPU)\n",
    "\"\"\"\n",
    "\n",
    "def kWh_vm (df_client_1, df_vm_1) :\n",
    "    df_client = df_client_1.copy()\n",
    "    df_vm = df_vm_1.copy()\n",
    "    for i in df_client['usageType'][df_client['serviceCode'].str.lower()=='virtual machines'].unique() :   \n",
    "        #Filtrer sur le nom de la machine viruelle :\n",
    "        if df_vm[df_vm['Name'] == i].size == 0 :\n",
    "            break\n",
    "        else :\n",
    "            df_vm_filtred=df_vm[df_vm['Name'] == i]\n",
    "            tdp=df_vm_filtred['TDP calculé']\n",
    "            tdp=tdp.iloc[0]\n",
    "            tdp = float(tdp.replace(',', '.'))### /!\\ Tester si ca fonctionne car est ce que nombre ?\n",
    "        #Ajout de l'info dans notre DF sur : le nom de la vm et sur les lignes vm\n",
    "            df_client.loc[(df_client['usageQuantityUnit'] == \"1 Hour\") & \n",
    "                          (df_client['usageType'] == i) & \n",
    "                          (df_client['serviceCode'].str.lower()=='virtual machines')\n",
    "                          , 'kWh']= tdp*df_client['usageQuantity']\n",
    "    \n",
    "    return df_client"
   ]
  },
  {
   "cell_type": "code",
   "execution_count": 15,
   "id": "c5994792",
   "metadata": {
    "ExecuteTime": {
     "end_time": "2024-06-12T07:10:56.325224Z",
     "start_time": "2024-06-12T07:10:56.321533Z"
    },
    "hidden": true
   },
   "outputs": [],
   "source": [
    "\"\"\"\n",
    "Calcul du kWh pour le storage\n",
    "\"\"\"\n",
    "def kWh_sto (df) :\n",
    "    df_copy = df.copy()\n",
    "    df_copy.loc[(df_copy['usageQuantityUnit'] == \"1 GB\") & \n",
    "    (df_copy['serviceCode'].str.lower()=='storage'), 'kWh'] = 0.005*df_copy['usageQuantity']\n",
    "    df_copy.loc[(df_copy['usageQuantityUnit'] == \"1 GB/Month\") & \n",
    "    (df_copy['serviceCode'].str.lower()=='storage'), 'kWh'] = 0.005*df_copy['usageQuantity']\n",
    "    \n",
    "    return df_copy"
   ]
  },
  {
   "cell_type": "markdown",
   "id": "faf096e1",
   "metadata": {
    "hidden": true
   },
   "source": [
    "## Calcul CO2"
   ]
  },
  {
   "cell_type": "code",
   "execution_count": 16,
   "id": "0323cbb4",
   "metadata": {
    "ExecuteTime": {
     "end_time": "2024-06-12T07:10:56.328378Z",
     "start_time": "2024-06-12T07:10:56.325224Z"
    },
    "hidden": true
   },
   "outputs": [],
   "source": [
    "\"\"\"\n",
    "Calcul pour le CO2\n",
    "\"\"\"\n",
    "def co2(df):\n",
    "    df_copy = df.copy()\n",
    "    df_copy.loc[:, 'CO2'] = df_copy['kWh']*df_copy['CO2/kWh']\n",
    "    \n",
    "    return df_copy"
   ]
  },
  {
   "cell_type": "code",
   "execution_count": 17,
   "id": "7cf2229d",
   "metadata": {
    "ExecuteTime": {
     "end_time": "2024-06-12T07:10:56.332341Z",
     "start_time": "2024-06-12T07:10:56.328766Z"
    },
    "hidden": true
   },
   "outputs": [],
   "source": [
    "def calculation_co2_m2(df, df_geo, df_vm, month) :\n",
    "    #Copie des Data frame\n",
    "        df_copy = df.copy()\n",
    "        df_geo_copy = df_geo.copy()\n",
    "        df_vm_copy = df_vm.copy()\n",
    "        \n",
    "    #Filtre de colonnes \n",
    "        df_copy = clean_columns(df_copy)\n",
    "        \n",
    "    #Calculs kWh\n",
    "        df_copy = kWh_vm(df_copy, df_vm_copy)\n",
    "        df_copy = kWh_sto(df_copy)\n",
    "    \n",
    "    #Ajout CO2/kWh\n",
    "        df_copy = co2_kWh(df_copy, df_geo_copy, month)\n",
    "        \n",
    "    #Calcul CO2\n",
    "        df_copy = co2(df_copy)\n",
    "        \n",
    "        return df_copy"
   ]
  },
  {
   "cell_type": "code",
   "execution_count": 18,
   "id": "7fb21dd7",
   "metadata": {
    "ExecuteTime": {
     "end_time": "2024-06-12T07:11:05.585034Z",
     "start_time": "2024-06-12T07:10:56.332728Z"
    },
    "hidden": true
   },
   "outputs": [],
   "source": [
    "avril_df = calculation_co2_m2(df_april, df_geo, df_vm, 'april')\n",
    "mai_df = calculation_co2_m2(df_may, df_geo, df_vm, 'may')"
   ]
  },
  {
   "cell_type": "markdown",
   "id": "4a3da519",
   "metadata": {
    "hidden": true
   },
   "source": [
    "Concatenons une nouvelle fois nos dataframe et diminuons une nouvelle fois le nombre de ligne et colonne pour nos graphiques"
   ]
  },
  {
   "cell_type": "code",
   "execution_count": 19,
   "id": "f4607077",
   "metadata": {
    "ExecuteTime": {
     "end_time": "2024-06-12T07:11:06.194842Z",
     "start_time": "2024-06-12T07:11:05.585034Z"
    },
    "hidden": true
   },
   "outputs": [],
   "source": [
    "concat_avril_mai = pd.concat([avril_df, mai_df], ignore_index=True)\n",
    "concat_avril_mai = concat_avril_mai[['region', 'endDate', 'startDate', 'productCode', 'usageType', 'usageQuantityUnit',\n",
    "                              'usageQuantity', 'serviceCode', 'resourceId', 'itemType', 'CO2/kWh','kWh','CO2']]\n",
    "concat_avril_mai= concat_avril_mai[(concat_avril_mai['serviceCode'].str.lower()=='virtual machines') | (concat_avril_mai['serviceCode'].str.lower()=='storage')]"
   ]
  },
  {
   "cell_type": "code",
   "execution_count": 20,
   "id": "ce72fdf1",
   "metadata": {
    "ExecuteTime": {
     "end_time": "2024-06-12T07:11:06.241923Z",
     "start_time": "2024-06-12T07:11:06.194842Z"
    },
    "hidden": true
   },
   "outputs": [
    {
     "data": {
      "text/html": [
       "<div>\n",
       "<style scoped>\n",
       "    .dataframe tbody tr th:only-of-type {\n",
       "        vertical-align: middle;\n",
       "    }\n",
       "\n",
       "    .dataframe tbody tr th {\n",
       "        vertical-align: top;\n",
       "    }\n",
       "\n",
       "    .dataframe thead th {\n",
       "        text-align: right;\n",
       "    }\n",
       "</style>\n",
       "<table border=\"1\" class=\"dataframe\">\n",
       "  <thead>\n",
       "    <tr style=\"text-align: right;\">\n",
       "      <th></th>\n",
       "      <th>region</th>\n",
       "      <th>endDate</th>\n",
       "      <th>startDate</th>\n",
       "      <th>productCode</th>\n",
       "      <th>usageType</th>\n",
       "      <th>usageQuantityUnit</th>\n",
       "      <th>usageQuantity</th>\n",
       "      <th>serviceCode</th>\n",
       "      <th>resourceId</th>\n",
       "      <th>itemType</th>\n",
       "      <th>CO2/kWh</th>\n",
       "      <th>kWh</th>\n",
       "      <th>CO2</th>\n",
       "    </tr>\n",
       "  </thead>\n",
       "  <tbody>\n",
       "    <tr>\n",
       "      <th>3</th>\n",
       "      <td>westeurope</td>\n",
       "      <td>04/09/2024</td>\n",
       "      <td>04/09/2024</td>\n",
       "      <td>Microsoft.Compute</td>\n",
       "      <td>P4 LRS Disk</td>\n",
       "      <td>1/Month</td>\n",
       "      <td>0.033336</td>\n",
       "      <td>Storage</td>\n",
       "      <td>gsebtsintkanweeumdk51</td>\n",
       "      <td>Usage</td>\n",
       "      <td>224</td>\n",
       "      <td>0.000000</td>\n",
       "      <td>0.00000</td>\n",
       "    </tr>\n",
       "    <tr>\n",
       "      <th>5</th>\n",
       "      <td>francecentral</td>\n",
       "      <td>04/09/2024</td>\n",
       "      <td>04/09/2024</td>\n",
       "      <td>Microsoft.Storage</td>\n",
       "      <td>Hot LRS Data Stored</td>\n",
       "      <td>1 GB/Month</td>\n",
       "      <td>0.009045</td>\n",
       "      <td>Storage</td>\n",
       "      <td>dypeaidevzzzfrctsto00</td>\n",
       "      <td>Usage</td>\n",
       "      <td>21</td>\n",
       "      <td>0.000045</td>\n",
       "      <td>0.00095</td>\n",
       "    </tr>\n",
       "    <tr>\n",
       "      <th>7</th>\n",
       "      <td>francecentral</td>\n",
       "      <td>04/09/2024</td>\n",
       "      <td>04/09/2024</td>\n",
       "      <td>Microsoft.Storage</td>\n",
       "      <td>List Operations</td>\n",
       "      <td>10K</td>\n",
       "      <td>0.000300</td>\n",
       "      <td>Storage</td>\n",
       "      <td>shaeaiintshafrctsto01</td>\n",
       "      <td>Usage</td>\n",
       "      <td>21</td>\n",
       "      <td>0.000000</td>\n",
       "      <td>0.00000</td>\n",
       "    </tr>\n",
       "    <tr>\n",
       "      <th>10</th>\n",
       "      <td>francecentral</td>\n",
       "      <td>04/09/2024</td>\n",
       "      <td>04/09/2024</td>\n",
       "      <td>Microsoft.Storage</td>\n",
       "      <td>Read Operations</td>\n",
       "      <td>10K</td>\n",
       "      <td>9.803500</td>\n",
       "      <td>Storage</td>\n",
       "      <td>obheaidevzzzfrctsto00</td>\n",
       "      <td>Usage</td>\n",
       "      <td>21</td>\n",
       "      <td>0.000000</td>\n",
       "      <td>0.00000</td>\n",
       "    </tr>\n",
       "    <tr>\n",
       "      <th>14</th>\n",
       "      <td>francecentral</td>\n",
       "      <td>04/09/2024</td>\n",
       "      <td>04/09/2024</td>\n",
       "      <td>Microsoft.Storage</td>\n",
       "      <td>All Other Operations</td>\n",
       "      <td>10K</td>\n",
       "      <td>5.869600</td>\n",
       "      <td>Storage</td>\n",
       "      <td>corapmprducrfrctsto00</td>\n",
       "      <td>Usage</td>\n",
       "      <td>21</td>\n",
       "      <td>0.000000</td>\n",
       "      <td>0.00000</td>\n",
       "    </tr>\n",
       "    <tr>\n",
       "      <th>...</th>\n",
       "      <td>...</td>\n",
       "      <td>...</td>\n",
       "      <td>...</td>\n",
       "      <td>...</td>\n",
       "      <td>...</td>\n",
       "      <td>...</td>\n",
       "      <td>...</td>\n",
       "      <td>...</td>\n",
       "      <td>...</td>\n",
       "      <td>...</td>\n",
       "      <td>...</td>\n",
       "      <td>...</td>\n",
       "      <td>...</td>\n",
       "    </tr>\n",
       "    <tr>\n",
       "      <th>729857</th>\n",
       "      <td>westeurope</td>\n",
       "      <td>05/31/2024</td>\n",
       "      <td>05/31/2024</td>\n",
       "      <td>Microsoft.Kusto</td>\n",
       "      <td>Write Operations</td>\n",
       "      <td>10K</td>\n",
       "      <td>0.019200</td>\n",
       "      <td>Storage</td>\n",
       "      <td>gsebdpprddatglwwadx01</td>\n",
       "      <td>Usage</td>\n",
       "      <td>228</td>\n",
       "      <td>0.000000</td>\n",
       "      <td>0.00000</td>\n",
       "    </tr>\n",
       "    <tr>\n",
       "      <th>729859</th>\n",
       "      <td>francecentral</td>\n",
       "      <td>05/31/2024</td>\n",
       "      <td>05/31/2024</td>\n",
       "      <td>Microsoft.Storage</td>\n",
       "      <td>LRS List and Create Container Operations</td>\n",
       "      <td>10K</td>\n",
       "      <td>0.013500</td>\n",
       "      <td>Storage</td>\n",
       "      <td>corapmdevapmfrctsto00</td>\n",
       "      <td>Usage</td>\n",
       "      <td>17</td>\n",
       "      <td>0.000000</td>\n",
       "      <td>0.00000</td>\n",
       "    </tr>\n",
       "    <tr>\n",
       "      <th>729860</th>\n",
       "      <td>westeurope</td>\n",
       "      <td>05/31/2024</td>\n",
       "      <td>05/31/2024</td>\n",
       "      <td>Microsoft.Storage</td>\n",
       "      <td>LRS List and Create Container Operations</td>\n",
       "      <td>10K</td>\n",
       "      <td>0.013500</td>\n",
       "      <td>Storage</td>\n",
       "      <td>pcmdgtdevoshweeusto00</td>\n",
       "      <td>Usage</td>\n",
       "      <td>228</td>\n",
       "      <td>0.000000</td>\n",
       "      <td>0.00000</td>\n",
       "    </tr>\n",
       "    <tr>\n",
       "      <th>729867</th>\n",
       "      <td>westeurope</td>\n",
       "      <td>05/31/2024</td>\n",
       "      <td>05/31/2024</td>\n",
       "      <td>Microsoft.Compute</td>\n",
       "      <td>E2 v3/E2s v3</td>\n",
       "      <td>1 Hour</td>\n",
       "      <td>24.000000</td>\n",
       "      <td>Virtual Machines</td>\n",
       "      <td>pcmdgtintspcweeuvmw00</td>\n",
       "      <td>Usage</td>\n",
       "      <td>228</td>\n",
       "      <td>3.336000</td>\n",
       "      <td>760.60800</td>\n",
       "    </tr>\n",
       "    <tr>\n",
       "      <th>729874</th>\n",
       "      <td>westeurope</td>\n",
       "      <td>05/31/2024</td>\n",
       "      <td>05/31/2024</td>\n",
       "      <td>Microsoft.Compute</td>\n",
       "      <td>D8a v4/D8as v4</td>\n",
       "      <td>1 Hour</td>\n",
       "      <td>6.250000</td>\n",
       "      <td>Virtual Machines</td>\n",
       "      <td>gsebtsintkwnweeuvml51</td>\n",
       "      <td>Usage</td>\n",
       "      <td>228</td>\n",
       "      <td>1.000000</td>\n",
       "      <td>228.00000</td>\n",
       "    </tr>\n",
       "  </tbody>\n",
       "</table>\n",
       "<p>312169 rows × 13 columns</p>\n",
       "</div>"
      ],
      "text/plain": [
       "               region     endDate   startDate        productCode  \\\n",
       "3          westeurope  04/09/2024  04/09/2024  Microsoft.Compute   \n",
       "5       francecentral  04/09/2024  04/09/2024  Microsoft.Storage   \n",
       "7       francecentral  04/09/2024  04/09/2024  Microsoft.Storage   \n",
       "10      francecentral  04/09/2024  04/09/2024  Microsoft.Storage   \n",
       "14      francecentral  04/09/2024  04/09/2024  Microsoft.Storage   \n",
       "...               ...         ...         ...                ...   \n",
       "729857     westeurope  05/31/2024  05/31/2024    Microsoft.Kusto   \n",
       "729859  francecentral  05/31/2024  05/31/2024  Microsoft.Storage   \n",
       "729860     westeurope  05/31/2024  05/31/2024  Microsoft.Storage   \n",
       "729867     westeurope  05/31/2024  05/31/2024  Microsoft.Compute   \n",
       "729874     westeurope  05/31/2024  05/31/2024  Microsoft.Compute   \n",
       "\n",
       "                                       usageType usageQuantityUnit  \\\n",
       "3                                    P4 LRS Disk           1/Month   \n",
       "5                            Hot LRS Data Stored        1 GB/Month   \n",
       "7                                List Operations               10K   \n",
       "10                               Read Operations               10K   \n",
       "14                          All Other Operations               10K   \n",
       "...                                          ...               ...   \n",
       "729857                          Write Operations               10K   \n",
       "729859  LRS List and Create Container Operations               10K   \n",
       "729860  LRS List and Create Container Operations               10K   \n",
       "729867                              E2 v3/E2s v3            1 Hour   \n",
       "729874                            D8a v4/D8as v4            1 Hour   \n",
       "\n",
       "        usageQuantity       serviceCode             resourceId itemType  \\\n",
       "3            0.033336           Storage  gsebtsintkanweeumdk51    Usage   \n",
       "5            0.009045           Storage  dypeaidevzzzfrctsto00    Usage   \n",
       "7            0.000300           Storage  shaeaiintshafrctsto01    Usage   \n",
       "10           9.803500           Storage  obheaidevzzzfrctsto00    Usage   \n",
       "14           5.869600           Storage  corapmprducrfrctsto00    Usage   \n",
       "...               ...               ...                    ...      ...   \n",
       "729857       0.019200           Storage  gsebdpprddatglwwadx01    Usage   \n",
       "729859       0.013500           Storage  corapmdevapmfrctsto00    Usage   \n",
       "729860       0.013500           Storage  pcmdgtdevoshweeusto00    Usage   \n",
       "729867      24.000000  Virtual Machines  pcmdgtintspcweeuvmw00    Usage   \n",
       "729874       6.250000  Virtual Machines  gsebtsintkwnweeuvml51    Usage   \n",
       "\n",
       "        CO2/kWh       kWh        CO2  \n",
       "3           224  0.000000    0.00000  \n",
       "5            21  0.000045    0.00095  \n",
       "7            21  0.000000    0.00000  \n",
       "10           21  0.000000    0.00000  \n",
       "14           21  0.000000    0.00000  \n",
       "...         ...       ...        ...  \n",
       "729857      228  0.000000    0.00000  \n",
       "729859       17  0.000000    0.00000  \n",
       "729860      228  0.000000    0.00000  \n",
       "729867      228  3.336000  760.60800  \n",
       "729874      228  1.000000  228.00000  \n",
       "\n",
       "[312169 rows x 13 columns]"
      ]
     },
     "execution_count": 20,
     "metadata": {},
     "output_type": "execute_result"
    }
   ],
   "source": [
    "concat_avril_mai\n",
    "#.to_csv('méthode2.csv', index=False)"
   ]
  },
  {
   "cell_type": "markdown",
   "id": "1804dd00",
   "metadata": {
    "heading_collapsed": true
   },
   "source": [
    "# Troisième méthode"
   ]
  },
  {
   "cell_type": "markdown",
   "id": "c0e7e8e7",
   "metadata": {
    "hidden": true
   },
   "source": [
    "Dans la méthode précédentre nous prenions en compte le fait que chaque Core étaient utilisés pleinement, ici, grâce à l'information sur le nombre de Core et le nombre de CPU utilisés"
   ]
  },
  {
   "cell_type": "markdown",
   "id": "40d35115",
   "metadata": {
    "hidden": true
   },
   "source": [
    "## Fonctions utilisées précédement"
   ]
  },
  {
   "cell_type": "code",
   "execution_count": 21,
   "id": "f9aaa190",
   "metadata": {
    "ExecuteTime": {
     "end_time": "2024-06-12T07:11:06.251262Z",
     "start_time": "2024-06-12T07:11:06.244578Z"
    },
    "hidden": true
   },
   "outputs": [],
   "source": [
    "\"\"\"\n",
    "Séléction des colonnes utilisées par lotacloud\n",
    "\"\"\"\n",
    "def clean_columns(df) :\n",
    "    df_copy = df.copy()\n",
    "    df_copy = pd.DataFrame({ \n",
    "                     'usageAccountId' : df['AccountOwnerId'], \n",
    "                     'region' : df['ResourceLocation'], \n",
    "                     'region2' : df['MeterRegion'],\n",
    "                     'endDate' : df['Date'],\n",
    "                     'startDate' : df['Date'],\n",
    "                     'productCode' : df['ConsumedService'],\n",
    "                     'description' : df['ProductName'],\n",
    "                     'usageType' : df['MeterName'],\n",
    "                     'usageQuantityUnit' : df['UnitOfMeasure'],\n",
    "                     'cost' : '',# : df_may['QuantityUnit'],\n",
    "                     'usageQuantity' : df['Quantity'],\n",
    "                     'costCenter' : df['CostCenter'],\n",
    "                     'serviceCode' : df['MeterCategory'],\n",
    "                     'tags' : df['Tags'],\n",
    "                     'resourceId' : df['ResourceName'],\n",
    "                     'provider' : df['PublisherType'],\n",
    "                     'itemType' : df['ChargeType'],\n",
    "                     'currency' : df['BillingCurrencyCode'],\n",
    "                     'resourceGroup' : df['ResourceGroup'],\n",
    "                     'subscriptionName' : df['SubscriptionName'],\n",
    "                     'CO2/kWh' : 0,\n",
    "                     'kWh' : 0,\n",
    "                     'CO2' : 0,\n",
    "                    })\n",
    "    return df_copy"
   ]
  },
  {
   "cell_type": "code",
   "execution_count": 22,
   "id": "8d9e1737",
   "metadata": {
    "ExecuteTime": {
     "end_time": "2024-06-12T07:11:06.258394Z",
     "start_time": "2024-06-12T07:11:06.253071Z"
    },
    "hidden": true
   },
   "outputs": [],
   "source": [
    "\"\"\"\n",
    "Ajout de l'information CO2/kWh dans sa colonne\n",
    "\"\"\"\n",
    "def co2_kWh(df, df_geo, month):\n",
    "    df_copy = df.copy()\n",
    "    df_geo_copy = df_geo.copy()\n",
    "    for i in df_geo_copy['region'].value_counts().index : # Verifier pour les valeures nul si pris en compte\n",
    "        co2= df_geo_copy[f'{month} gCO2e/kwh'][df_geo_copy['region']==i]\n",
    "        co2=co2.iloc[0]#Verifier si nombre\n",
    "        df_copy.loc[df_copy['region'] == i, 'CO2/kWh'] = co2\n",
    "    \n",
    "    return df_copy"
   ]
  },
  {
   "cell_type": "code",
   "execution_count": 23,
   "id": "25d5fb5c",
   "metadata": {
    "ExecuteTime": {
     "end_time": "2024-06-12T07:11:06.266432Z",
     "start_time": "2024-06-12T07:11:06.258394Z"
    },
    "hidden": true
   },
   "outputs": [],
   "source": [
    "\"\"\"\n",
    "Calcul du kWh pour le storage\n",
    "\"\"\"\n",
    "def kWh_sto (df) :\n",
    "    df_copy = df.copy()\n",
    "    df_copy.loc[(df_copy['usageQuantityUnit'] == \"1 GB\") & \n",
    "    (df_copy['serviceCode'].str.lower()=='storage'), 'kWh'] = 0.005*df_copy['usageQuantity']\n",
    "    df_copy.loc[(df_copy['usageQuantityUnit'] == \"1 GB/Month\") & \n",
    "    (df_copy['serviceCode'].str.lower()=='storage'), 'kWh'] = 0.005*df_copy['usageQuantity']\n",
    "    \n",
    "    return df_copy"
   ]
  },
  {
   "cell_type": "markdown",
   "id": "83afcfb4",
   "metadata": {
    "hidden": true
   },
   "source": [
    "## Fonction kWh pour les VM modifié"
   ]
  },
  {
   "cell_type": "code",
   "execution_count": 24,
   "id": "755076fd",
   "metadata": {
    "ExecuteTime": {
     "end_time": "2024-06-12T07:11:06.275041Z",
     "start_time": "2024-06-12T07:11:06.266432Z"
    },
    "hidden": true
   },
   "outputs": [],
   "source": [
    "\"\"\"\n",
    "Calcul du kWh pour les machines viruelles\n",
    "\"\"\"\n",
    "\"\"\"\n",
    "Ici nous récupérons juste les valeure calculer dans le csv (RAM + TDP*CPU/Core)\n",
    "\"\"\"\n",
    "\n",
    "def kWh_vm_met_3(df_client_1, df_vm_1) :\n",
    "    df_client = df_client_1.copy()\n",
    "    df_vm = df_vm_1.copy()\n",
    "    for i in df_client['usageType'][df_client['serviceCode'].str.lower()=='virtual machines'].unique() :   \n",
    "        #Filtrer sur le nom de la machine viruelle :\n",
    "        if df_vm[df_vm['Name'] == i].size == 0 :\n",
    "            break\n",
    "        else :\n",
    "            df_vm_filtred=df_vm[df_vm['Name'] == i]\n",
    "            tdp=df_vm_filtred['TDP rec_kWh']\n",
    "            tdp=tdp.iloc[0]\n",
    "            tdp = float(tdp.replace(',', '.'))### /!\\ Tester si ca fonctionne car est ce que nombre ?\n",
    "        #Ajout de l'info dans notre DF sur : le nom de la vm et sur les lignes vm\n",
    "            df_client.loc[(df_client['usageQuantityUnit'] == \"1 Hour\") & \n",
    "                          (df_client['usageType'] == i) & \n",
    "                          (df_client['serviceCode'].str.lower()=='virtual machines')\n",
    "                          , 'kWh']= tdp*df_client['usageQuantity']\n",
    "    \n",
    "    return df_client"
   ]
  },
  {
   "cell_type": "markdown",
   "id": "7304d85e",
   "metadata": {
    "hidden": true
   },
   "source": [
    "## Calcul CO2"
   ]
  },
  {
   "cell_type": "code",
   "execution_count": 25,
   "id": "b23b49c6",
   "metadata": {
    "ExecuteTime": {
     "end_time": "2024-06-12T07:11:06.284212Z",
     "start_time": "2024-06-12T07:11:06.277663Z"
    },
    "hidden": true
   },
   "outputs": [],
   "source": [
    "\"\"\"\n",
    "Calcul pour le CO2\n",
    "\"\"\"\n",
    "def co2(df):\n",
    "    df_copy = df.copy()\n",
    "    df_copy.loc[:, 'CO2'] = df_copy['kWh']*df_copy['CO2/kWh']\n",
    "    \n",
    "    return df_copy\n",
    "\n",
    "def calculation_co2_met_3(df, df_geo, df_vm, month) :\n",
    "    #Copie des Data frame\n",
    "        df_copy = df.copy()\n",
    "        df_geo_copy = df_geo.copy()\n",
    "        df_vm_copy = df_vm.copy()\n",
    "        \n",
    "    #Filtre de colonnes \n",
    "        df_copy = clean_columns(df_copy)\n",
    "        \n",
    "    #Calculs kWh\n",
    "        df_copy = kWh_vm_met_3(df_copy, df_vm_copy)\n",
    "        df_copy = kWh_sto(df_copy)\n",
    "    \n",
    "    #Ajout CO2/kWh\n",
    "        df_copy = co2_kWh(df_copy, df_geo_copy, month)\n",
    "        \n",
    "    #Calcul CO2\n",
    "        df_copy = co2(df_copy)\n",
    "        \n",
    "        return df_copy"
   ]
  },
  {
   "cell_type": "code",
   "execution_count": 26,
   "id": "2e398c95",
   "metadata": {
    "ExecuteTime": {
     "end_time": "2024-06-12T07:11:15.468023Z",
     "start_time": "2024-06-12T07:11:06.285860Z"
    },
    "hidden": true
   },
   "outputs": [],
   "source": [
    "avril_df_met_3 = calculation_co2_met_3(df_april, df_geo, df_vm, 'april')\n",
    "mai_df_met_3 = calculation_co2_met_3(df_may, df_geo, df_vm, 'may')"
   ]
  },
  {
   "cell_type": "code",
   "execution_count": 27,
   "id": "3e05ee4f",
   "metadata": {
    "ExecuteTime": {
     "end_time": "2024-06-12T07:11:16.076781Z",
     "start_time": "2024-06-12T07:11:15.468023Z"
    },
    "hidden": true
   },
   "outputs": [],
   "source": [
    "concat_avril_mai_met_3 = pd.concat([avril_df_met_3, mai_df_met_3], ignore_index=True)\n",
    "concat_avril_mai_met_3 = concat_avril_mai_met_3[['region', 'endDate', 'startDate', 'productCode', 'usageType', 'usageQuantityUnit',\n",
    "                              'usageQuantity', 'serviceCode', 'resourceId', 'itemType', 'CO2/kWh','kWh','CO2']]\n",
    "concat_avril_mai_met_3= concat_avril_mai_met_3[(concat_avril_mai_met_3['serviceCode'].str.lower()=='virtual machines') | (concat_avril_mai_met_3['serviceCode'].str.lower()=='storage')]"
   ]
  },
  {
   "cell_type": "code",
   "execution_count": 28,
   "id": "69cda83a",
   "metadata": {
    "ExecuteTime": {
     "end_time": "2024-06-12T07:11:16.094031Z",
     "start_time": "2024-06-12T07:11:16.078317Z"
    },
    "hidden": true
   },
   "outputs": [
    {
     "data": {
      "text/html": [
       "<div>\n",
       "<style scoped>\n",
       "    .dataframe tbody tr th:only-of-type {\n",
       "        vertical-align: middle;\n",
       "    }\n",
       "\n",
       "    .dataframe tbody tr th {\n",
       "        vertical-align: top;\n",
       "    }\n",
       "\n",
       "    .dataframe thead th {\n",
       "        text-align: right;\n",
       "    }\n",
       "</style>\n",
       "<table border=\"1\" class=\"dataframe\">\n",
       "  <thead>\n",
       "    <tr style=\"text-align: right;\">\n",
       "      <th></th>\n",
       "      <th>region</th>\n",
       "      <th>endDate</th>\n",
       "      <th>startDate</th>\n",
       "      <th>productCode</th>\n",
       "      <th>usageType</th>\n",
       "      <th>usageQuantityUnit</th>\n",
       "      <th>usageQuantity</th>\n",
       "      <th>serviceCode</th>\n",
       "      <th>resourceId</th>\n",
       "      <th>itemType</th>\n",
       "      <th>CO2/kWh</th>\n",
       "      <th>kWh</th>\n",
       "      <th>CO2</th>\n",
       "    </tr>\n",
       "  </thead>\n",
       "  <tbody>\n",
       "    <tr>\n",
       "      <th>3</th>\n",
       "      <td>westeurope</td>\n",
       "      <td>04/09/2024</td>\n",
       "      <td>04/09/2024</td>\n",
       "      <td>Microsoft.Compute</td>\n",
       "      <td>P4 LRS Disk</td>\n",
       "      <td>1/Month</td>\n",
       "      <td>0.033336</td>\n",
       "      <td>Storage</td>\n",
       "      <td>gsebtsintkanweeumdk51</td>\n",
       "      <td>Usage</td>\n",
       "      <td>224</td>\n",
       "      <td>0.000000</td>\n",
       "      <td>0.00000</td>\n",
       "    </tr>\n",
       "    <tr>\n",
       "      <th>5</th>\n",
       "      <td>francecentral</td>\n",
       "      <td>04/09/2024</td>\n",
       "      <td>04/09/2024</td>\n",
       "      <td>Microsoft.Storage</td>\n",
       "      <td>Hot LRS Data Stored</td>\n",
       "      <td>1 GB/Month</td>\n",
       "      <td>0.009045</td>\n",
       "      <td>Storage</td>\n",
       "      <td>dypeaidevzzzfrctsto00</td>\n",
       "      <td>Usage</td>\n",
       "      <td>21</td>\n",
       "      <td>0.000045</td>\n",
       "      <td>0.00095</td>\n",
       "    </tr>\n",
       "    <tr>\n",
       "      <th>7</th>\n",
       "      <td>francecentral</td>\n",
       "      <td>04/09/2024</td>\n",
       "      <td>04/09/2024</td>\n",
       "      <td>Microsoft.Storage</td>\n",
       "      <td>List Operations</td>\n",
       "      <td>10K</td>\n",
       "      <td>0.000300</td>\n",
       "      <td>Storage</td>\n",
       "      <td>shaeaiintshafrctsto01</td>\n",
       "      <td>Usage</td>\n",
       "      <td>21</td>\n",
       "      <td>0.000000</td>\n",
       "      <td>0.00000</td>\n",
       "    </tr>\n",
       "    <tr>\n",
       "      <th>10</th>\n",
       "      <td>francecentral</td>\n",
       "      <td>04/09/2024</td>\n",
       "      <td>04/09/2024</td>\n",
       "      <td>Microsoft.Storage</td>\n",
       "      <td>Read Operations</td>\n",
       "      <td>10K</td>\n",
       "      <td>9.803500</td>\n",
       "      <td>Storage</td>\n",
       "      <td>obheaidevzzzfrctsto00</td>\n",
       "      <td>Usage</td>\n",
       "      <td>21</td>\n",
       "      <td>0.000000</td>\n",
       "      <td>0.00000</td>\n",
       "    </tr>\n",
       "    <tr>\n",
       "      <th>14</th>\n",
       "      <td>francecentral</td>\n",
       "      <td>04/09/2024</td>\n",
       "      <td>04/09/2024</td>\n",
       "      <td>Microsoft.Storage</td>\n",
       "      <td>All Other Operations</td>\n",
       "      <td>10K</td>\n",
       "      <td>5.869600</td>\n",
       "      <td>Storage</td>\n",
       "      <td>corapmprducrfrctsto00</td>\n",
       "      <td>Usage</td>\n",
       "      <td>21</td>\n",
       "      <td>0.000000</td>\n",
       "      <td>0.00000</td>\n",
       "    </tr>\n",
       "    <tr>\n",
       "      <th>...</th>\n",
       "      <td>...</td>\n",
       "      <td>...</td>\n",
       "      <td>...</td>\n",
       "      <td>...</td>\n",
       "      <td>...</td>\n",
       "      <td>...</td>\n",
       "      <td>...</td>\n",
       "      <td>...</td>\n",
       "      <td>...</td>\n",
       "      <td>...</td>\n",
       "      <td>...</td>\n",
       "      <td>...</td>\n",
       "      <td>...</td>\n",
       "    </tr>\n",
       "    <tr>\n",
       "      <th>729857</th>\n",
       "      <td>westeurope</td>\n",
       "      <td>05/31/2024</td>\n",
       "      <td>05/31/2024</td>\n",
       "      <td>Microsoft.Kusto</td>\n",
       "      <td>Write Operations</td>\n",
       "      <td>10K</td>\n",
       "      <td>0.019200</td>\n",
       "      <td>Storage</td>\n",
       "      <td>gsebdpprddatglwwadx01</td>\n",
       "      <td>Usage</td>\n",
       "      <td>228</td>\n",
       "      <td>0.000000</td>\n",
       "      <td>0.00000</td>\n",
       "    </tr>\n",
       "    <tr>\n",
       "      <th>729859</th>\n",
       "      <td>francecentral</td>\n",
       "      <td>05/31/2024</td>\n",
       "      <td>05/31/2024</td>\n",
       "      <td>Microsoft.Storage</td>\n",
       "      <td>LRS List and Create Container Operations</td>\n",
       "      <td>10K</td>\n",
       "      <td>0.013500</td>\n",
       "      <td>Storage</td>\n",
       "      <td>corapmdevapmfrctsto00</td>\n",
       "      <td>Usage</td>\n",
       "      <td>17</td>\n",
       "      <td>0.000000</td>\n",
       "      <td>0.00000</td>\n",
       "    </tr>\n",
       "    <tr>\n",
       "      <th>729860</th>\n",
       "      <td>westeurope</td>\n",
       "      <td>05/31/2024</td>\n",
       "      <td>05/31/2024</td>\n",
       "      <td>Microsoft.Storage</td>\n",
       "      <td>LRS List and Create Container Operations</td>\n",
       "      <td>10K</td>\n",
       "      <td>0.013500</td>\n",
       "      <td>Storage</td>\n",
       "      <td>pcmdgtdevoshweeusto00</td>\n",
       "      <td>Usage</td>\n",
       "      <td>228</td>\n",
       "      <td>0.000000</td>\n",
       "      <td>0.00000</td>\n",
       "    </tr>\n",
       "    <tr>\n",
       "      <th>729867</th>\n",
       "      <td>westeurope</td>\n",
       "      <td>05/31/2024</td>\n",
       "      <td>05/31/2024</td>\n",
       "      <td>Microsoft.Compute</td>\n",
       "      <td>E2 v3/E2s v3</td>\n",
       "      <td>1 Hour</td>\n",
       "      <td>24.000000</td>\n",
       "      <td>Virtual Machines</td>\n",
       "      <td>pcmdgtintspcweeuvmw00</td>\n",
       "      <td>Usage</td>\n",
       "      <td>228</td>\n",
       "      <td>0.432000</td>\n",
       "      <td>98.49600</td>\n",
       "    </tr>\n",
       "    <tr>\n",
       "      <th>729874</th>\n",
       "      <td>westeurope</td>\n",
       "      <td>05/31/2024</td>\n",
       "      <td>05/31/2024</td>\n",
       "      <td>Microsoft.Compute</td>\n",
       "      <td>D8a v4/D8as v4</td>\n",
       "      <td>1 Hour</td>\n",
       "      <td>6.250000</td>\n",
       "      <td>Virtual Machines</td>\n",
       "      <td>gsebtsintkwnweeuvml51</td>\n",
       "      <td>Usage</td>\n",
       "      <td>228</td>\n",
       "      <td>0.275000</td>\n",
       "      <td>62.70000</td>\n",
       "    </tr>\n",
       "  </tbody>\n",
       "</table>\n",
       "<p>312169 rows × 13 columns</p>\n",
       "</div>"
      ],
      "text/plain": [
       "               region     endDate   startDate        productCode  \\\n",
       "3          westeurope  04/09/2024  04/09/2024  Microsoft.Compute   \n",
       "5       francecentral  04/09/2024  04/09/2024  Microsoft.Storage   \n",
       "7       francecentral  04/09/2024  04/09/2024  Microsoft.Storage   \n",
       "10      francecentral  04/09/2024  04/09/2024  Microsoft.Storage   \n",
       "14      francecentral  04/09/2024  04/09/2024  Microsoft.Storage   \n",
       "...               ...         ...         ...                ...   \n",
       "729857     westeurope  05/31/2024  05/31/2024    Microsoft.Kusto   \n",
       "729859  francecentral  05/31/2024  05/31/2024  Microsoft.Storage   \n",
       "729860     westeurope  05/31/2024  05/31/2024  Microsoft.Storage   \n",
       "729867     westeurope  05/31/2024  05/31/2024  Microsoft.Compute   \n",
       "729874     westeurope  05/31/2024  05/31/2024  Microsoft.Compute   \n",
       "\n",
       "                                       usageType usageQuantityUnit  \\\n",
       "3                                    P4 LRS Disk           1/Month   \n",
       "5                            Hot LRS Data Stored        1 GB/Month   \n",
       "7                                List Operations               10K   \n",
       "10                               Read Operations               10K   \n",
       "14                          All Other Operations               10K   \n",
       "...                                          ...               ...   \n",
       "729857                          Write Operations               10K   \n",
       "729859  LRS List and Create Container Operations               10K   \n",
       "729860  LRS List and Create Container Operations               10K   \n",
       "729867                              E2 v3/E2s v3            1 Hour   \n",
       "729874                            D8a v4/D8as v4            1 Hour   \n",
       "\n",
       "        usageQuantity       serviceCode             resourceId itemType  \\\n",
       "3            0.033336           Storage  gsebtsintkanweeumdk51    Usage   \n",
       "5            0.009045           Storage  dypeaidevzzzfrctsto00    Usage   \n",
       "7            0.000300           Storage  shaeaiintshafrctsto01    Usage   \n",
       "10           9.803500           Storage  obheaidevzzzfrctsto00    Usage   \n",
       "14           5.869600           Storage  corapmprducrfrctsto00    Usage   \n",
       "...               ...               ...                    ...      ...   \n",
       "729857       0.019200           Storage  gsebdpprddatglwwadx01    Usage   \n",
       "729859       0.013500           Storage  corapmdevapmfrctsto00    Usage   \n",
       "729860       0.013500           Storage  pcmdgtdevoshweeusto00    Usage   \n",
       "729867      24.000000  Virtual Machines  pcmdgtintspcweeuvmw00    Usage   \n",
       "729874       6.250000  Virtual Machines  gsebtsintkwnweeuvml51    Usage   \n",
       "\n",
       "        CO2/kWh       kWh       CO2  \n",
       "3           224  0.000000   0.00000  \n",
       "5            21  0.000045   0.00095  \n",
       "7            21  0.000000   0.00000  \n",
       "10           21  0.000000   0.00000  \n",
       "14           21  0.000000   0.00000  \n",
       "...         ...       ...       ...  \n",
       "729857      228  0.000000   0.00000  \n",
       "729859       17  0.000000   0.00000  \n",
       "729860      228  0.000000   0.00000  \n",
       "729867      228  0.432000  98.49600  \n",
       "729874      228  0.275000  62.70000  \n",
       "\n",
       "[312169 rows x 13 columns]"
      ]
     },
     "execution_count": 28,
     "metadata": {},
     "output_type": "execute_result"
    }
   ],
   "source": [
    "concat_avril_mai_met_3\n",
    "# concat_avril_mai_met_3.to_csv('méthode3.csv', index=False)"
   ]
  },
  {
   "cell_type": "markdown",
   "id": "1cec7ad4",
   "metadata": {
    "heading_collapsed": true
   },
   "source": [
    "# Quatrième méthode (basée sur la 2) (pas utile)"
   ]
  },
  {
   "cell_type": "markdown",
   "id": "952828e1",
   "metadata": {
    "hidden": true
   },
   "source": [
    "## Fonctions utilisées précédement"
   ]
  },
  {
   "cell_type": "code",
   "execution_count": 29,
   "id": "c4ed8fee",
   "metadata": {
    "ExecuteTime": {
     "end_time": "2024-06-12T07:11:16.100842Z",
     "start_time": "2024-06-12T07:11:16.095100Z"
    },
    "hidden": true
   },
   "outputs": [],
   "source": [
    "\"\"\"\n",
    "Séléction des colonnes utilisées par lotacloud\n",
    "\"\"\"\n",
    "def clean_columns(df) :\n",
    "    df_copy = df.copy()\n",
    "    df_copy = pd.DataFrame({ \n",
    "                     'usageAccountId' : df['AccountOwnerId'], \n",
    "                     'region' : df['ResourceLocation'], \n",
    "                     'region2' : df['MeterRegion'],\n",
    "                     'endDate' : df['Date'],\n",
    "                     'startDate' : df['Date'],\n",
    "                     'productCode' : df['ConsumedService'],\n",
    "                     'description' : df['ProductName'],\n",
    "                     'usageType' : df['MeterName'],\n",
    "                     'usageQuantityUnit' : df['UnitOfMeasure'],\n",
    "                     'cost' : '',# : df_may['QuantityUnit'],\n",
    "                     'usageQuantity' : df['Quantity'],\n",
    "                     'costCenter' : df['CostCenter'],\n",
    "                     'serviceCode' : df['MeterCategory'],\n",
    "                     'tags' : df['Tags'],\n",
    "                     'resourceId' : df['ResourceName'],\n",
    "                     'provider' : df['PublisherType'],\n",
    "                     'itemType' : df['ChargeType'],\n",
    "                     'currency' : df['BillingCurrencyCode'],\n",
    "                     'resourceGroup' : df['ResourceGroup'],\n",
    "                     'subscriptionName' : df['SubscriptionName'],\n",
    "                     'CO2/kWh' : 0,\n",
    "                     'kWh' : 0,\n",
    "                     'CO2' : 0,\n",
    "                    })\n",
    "    return df_copy"
   ]
  },
  {
   "cell_type": "code",
   "execution_count": 30,
   "id": "febad9d9",
   "metadata": {
    "ExecuteTime": {
     "end_time": "2024-06-12T07:11:16.107956Z",
     "start_time": "2024-06-12T07:11:16.102593Z"
    },
    "hidden": true
   },
   "outputs": [],
   "source": [
    "\"\"\"\n",
    "Calcul du kWh pour les machines viruelles\n",
    "\"\"\"\n",
    "\"\"\"\n",
    "Ici nous récupérons juste les valeure calculer dans le csv (RAM + CPU)\n",
    "\"\"\"\n",
    "\n",
    "def kWh_vm (df_client_1, df_vm_1) :\n",
    "    df_client = df_client_1.copy()\n",
    "    df_vm = df_vm_1.copy()\n",
    "    for i in df_client['usageType'][df_client['serviceCode'].str.lower()=='virtual machines'].unique() :   \n",
    "        #Filtrer sur le nom de la machine viruelle :\n",
    "        if df_vm[df_vm['Name'] == i].size == 0 :\n",
    "            break\n",
    "        else :\n",
    "            df_vm_filtred=df_vm[df_vm['Name'] == i]\n",
    "            tdp=df_vm_filtred['TDP calculé']\n",
    "            tdp=tdp.iloc[0]\n",
    "            tdp = float(tdp.replace(',', '.'))### /!\\ Tester si ca fonctionne car est ce que nombre ?\n",
    "        #Ajout de l'info dans notre DF sur : le nom de la vm et sur les lignes vm\n",
    "            df_client.loc[(df_client['usageQuantityUnit'] == \"1 Hour\") & \n",
    "                          (df_client['usageType'] == i) & \n",
    "                          (df_client['serviceCode'].str.lower()=='virtual machines')\n",
    "                          , 'kWh']= tdp*df_client['usageQuantity']\n",
    "    \n",
    "    return df_client"
   ]
  },
  {
   "cell_type": "code",
   "execution_count": 31,
   "id": "2270e1d6",
   "metadata": {
    "ExecuteTime": {
     "end_time": "2024-06-12T07:11:16.113887Z",
     "start_time": "2024-06-12T07:11:16.108150Z"
    },
    "hidden": true
   },
   "outputs": [],
   "source": [
    "\"\"\"\n",
    "Calcul du kWh pour le storage\n",
    "\"\"\"\n",
    "def kWh_sto (df) :\n",
    "    df_copy = df.copy()\n",
    "    df_copy.loc[(df_copy['usageQuantityUnit'] == \"1 GB\") & \n",
    "    (df_copy['serviceCode'].str.lower()=='storage'), 'kWh'] = 0.005*df_copy['usageQuantity']\n",
    "    df_copy.loc[(df_copy['usageQuantityUnit'] == \"1 GB/Month\") & \n",
    "    (df_copy['serviceCode'].str.lower()=='storage'), 'kWh'] = 0.005*df_copy['usageQuantity']\n",
    "    \n",
    "    return df_copy"
   ]
  },
  {
   "cell_type": "code",
   "execution_count": 32,
   "id": "0044b2dd",
   "metadata": {
    "ExecuteTime": {
     "end_time": "2024-06-12T07:11:16.118769Z",
     "start_time": "2024-06-12T07:11:16.113887Z"
    },
    "hidden": true
   },
   "outputs": [],
   "source": [
    "\"\"\"\n",
    "Calcul pour le CO2\n",
    "\"\"\"\n",
    "def co2_test(df):\n",
    "    df_copy = df.copy()\n",
    "    df_copy.loc[:, 'CO2'] = df_copy['kWh']*df_copy['CO2/kWh']\n",
    "    \n",
    "    return df_copy"
   ]
  },
  {
   "cell_type": "markdown",
   "id": "b02084f7",
   "metadata": {
    "hidden": true
   },
   "source": [
    "## Fonction CO2 par ville"
   ]
  },
  {
   "cell_type": "code",
   "execution_count": 33,
   "id": "d200418f",
   "metadata": {
    "ExecuteTime": {
     "end_time": "2024-06-12T07:11:16.124767Z",
     "start_time": "2024-06-12T07:11:16.119778Z"
    },
    "hidden": true
   },
   "outputs": [],
   "source": [
    "\"\"\"\n",
    "Ajout de l'information CO2/kWh dans sa colonne\n",
    "\"\"\"\n",
    "def co2_kWh_city(df, df_geo):\n",
    "    df_copy = df.copy()\n",
    "    df_geo_copy = df_geo.copy()\n",
    "    for i in df_geo_copy['region'].value_counts().index :# Verifier pour les valeures nul si pris en compte\n",
    "        co2= df_geo_copy['ville'][df_geo_copy['region']==i]\n",
    "        co2=co2.iloc[0]#Verifier si nombre\n",
    "        co2 = float(co2.replace(',', '.'))\n",
    "        df_copy.loc[df_copy['region'] == i, 'CO2/kWh'] = co2\n",
    "    \n",
    "    return df_copy"
   ]
  },
  {
   "cell_type": "markdown",
   "id": "b191ff20",
   "metadata": {
    "hidden": true
   },
   "source": [
    "## Calcul CO2"
   ]
  },
  {
   "cell_type": "code",
   "execution_count": 34,
   "id": "3fcf7939",
   "metadata": {
    "ExecuteTime": {
     "end_time": "2024-06-12T07:11:16.150456Z",
     "start_time": "2024-06-12T07:11:16.124767Z"
    },
    "hidden": true
   },
   "outputs": [],
   "source": [
    "def calculation_co2_m4(df, df_geo, df_vm) :\n",
    "    #Copie des Data frame\n",
    "        df_copy = df.copy()\n",
    "        df_geo_copy = df_geo.copy()\n",
    "        df_vm_copy = df_vm.copy()\n",
    "        \n",
    "    #Filtre de colonnes \n",
    "        df_copy = clean_columns(df_copy)\n",
    "        \n",
    "    #Calculs kWh\n",
    "        df_copy = kWh_vm(df_copy, df_vm_copy)\n",
    "        df_copy = kWh_sto(df_copy)\n",
    "    \n",
    "    #Ajout CO2/kWh\n",
    "        df_copy = co2_kWh_city(df_copy, df_geo_copy)\n",
    "        \n",
    "    #Calcul CO2\n",
    "        df_copy = co2_test(df_copy)\n",
    "        \n",
    "        return df_copy"
   ]
  },
  {
   "cell_type": "code",
   "execution_count": 35,
   "id": "0b975a2d",
   "metadata": {
    "ExecuteTime": {
     "end_time": "2024-06-12T07:11:25.333175Z",
     "start_time": "2024-06-12T07:11:16.152964Z"
    },
    "hidden": true
   },
   "outputs": [],
   "source": [
    "avril_df_m4 = calculation_co2_m4(df_april, df_geo, df_vm)\n",
    "mai_df_m4 = calculation_co2_m4(df_may, df_geo, df_vm)"
   ]
  },
  {
   "cell_type": "code",
   "execution_count": 36,
   "id": "55b296e7",
   "metadata": {
    "ExecuteTime": {
     "end_time": "2024-06-12T07:11:25.944820Z",
     "start_time": "2024-06-12T07:11:25.333175Z"
    },
    "hidden": true
   },
   "outputs": [],
   "source": [
    "concat_avril_mai_m4 = pd.concat([avril_df_m4, mai_df_m4], ignore_index=True)\n",
    "concat_avril_mai_m4 = concat_avril_mai_m4[['region', 'endDate', 'startDate', 'productCode', 'usageType', 'usageQuantityUnit',\n",
    "                              'usageQuantity', 'serviceCode', 'resourceId', 'itemType', 'CO2/kWh','kWh','CO2']]\n",
    "concat_avril_mai_m4= concat_avril_mai_m4[(concat_avril_mai_m4['serviceCode'].str.lower()=='virtual machines') | (concat_avril_mai_m4['serviceCode'].str.lower()=='storage')]"
   ]
  },
  {
   "cell_type": "code",
   "execution_count": 37,
   "id": "6edadb57",
   "metadata": {
    "ExecuteTime": {
     "end_time": "2024-06-12T07:11:25.962631Z",
     "start_time": "2024-06-12T07:11:25.944820Z"
    },
    "hidden": true
   },
   "outputs": [
    {
     "data": {
      "text/html": [
       "<div>\n",
       "<style scoped>\n",
       "    .dataframe tbody tr th:only-of-type {\n",
       "        vertical-align: middle;\n",
       "    }\n",
       "\n",
       "    .dataframe tbody tr th {\n",
       "        vertical-align: top;\n",
       "    }\n",
       "\n",
       "    .dataframe thead th {\n",
       "        text-align: right;\n",
       "    }\n",
       "</style>\n",
       "<table border=\"1\" class=\"dataframe\">\n",
       "  <thead>\n",
       "    <tr style=\"text-align: right;\">\n",
       "      <th></th>\n",
       "      <th>region</th>\n",
       "      <th>endDate</th>\n",
       "      <th>startDate</th>\n",
       "      <th>productCode</th>\n",
       "      <th>usageType</th>\n",
       "      <th>usageQuantityUnit</th>\n",
       "      <th>usageQuantity</th>\n",
       "      <th>serviceCode</th>\n",
       "      <th>resourceId</th>\n",
       "      <th>itemType</th>\n",
       "      <th>CO2/kWh</th>\n",
       "      <th>kWh</th>\n",
       "      <th>CO2</th>\n",
       "    </tr>\n",
       "  </thead>\n",
       "  <tbody>\n",
       "    <tr>\n",
       "      <th>3</th>\n",
       "      <td>westeurope</td>\n",
       "      <td>04/09/2024</td>\n",
       "      <td>04/09/2024</td>\n",
       "      <td>Microsoft.Compute</td>\n",
       "      <td>P4 LRS Disk</td>\n",
       "      <td>1/Month</td>\n",
       "      <td>0.033336</td>\n",
       "      <td>Storage</td>\n",
       "      <td>gsebtsintkanweeumdk51</td>\n",
       "      <td>Usage</td>\n",
       "      <td>328.40</td>\n",
       "      <td>0.000000</td>\n",
       "      <td>0.000000</td>\n",
       "    </tr>\n",
       "    <tr>\n",
       "      <th>5</th>\n",
       "      <td>francecentral</td>\n",
       "      <td>04/09/2024</td>\n",
       "      <td>04/09/2024</td>\n",
       "      <td>Microsoft.Storage</td>\n",
       "      <td>Hot LRS Data Stored</td>\n",
       "      <td>1 GB/Month</td>\n",
       "      <td>0.009045</td>\n",
       "      <td>Storage</td>\n",
       "      <td>dypeaidevzzzfrctsto00</td>\n",
       "      <td>Usage</td>\n",
       "      <td>51.28</td>\n",
       "      <td>0.000045</td>\n",
       "      <td>0.002319</td>\n",
       "    </tr>\n",
       "    <tr>\n",
       "      <th>7</th>\n",
       "      <td>francecentral</td>\n",
       "      <td>04/09/2024</td>\n",
       "      <td>04/09/2024</td>\n",
       "      <td>Microsoft.Storage</td>\n",
       "      <td>List Operations</td>\n",
       "      <td>10K</td>\n",
       "      <td>0.000300</td>\n",
       "      <td>Storage</td>\n",
       "      <td>shaeaiintshafrctsto01</td>\n",
       "      <td>Usage</td>\n",
       "      <td>51.28</td>\n",
       "      <td>0.000000</td>\n",
       "      <td>0.000000</td>\n",
       "    </tr>\n",
       "    <tr>\n",
       "      <th>10</th>\n",
       "      <td>francecentral</td>\n",
       "      <td>04/09/2024</td>\n",
       "      <td>04/09/2024</td>\n",
       "      <td>Microsoft.Storage</td>\n",
       "      <td>Read Operations</td>\n",
       "      <td>10K</td>\n",
       "      <td>9.803500</td>\n",
       "      <td>Storage</td>\n",
       "      <td>obheaidevzzzfrctsto00</td>\n",
       "      <td>Usage</td>\n",
       "      <td>51.28</td>\n",
       "      <td>0.000000</td>\n",
       "      <td>0.000000</td>\n",
       "    </tr>\n",
       "    <tr>\n",
       "      <th>14</th>\n",
       "      <td>francecentral</td>\n",
       "      <td>04/09/2024</td>\n",
       "      <td>04/09/2024</td>\n",
       "      <td>Microsoft.Storage</td>\n",
       "      <td>All Other Operations</td>\n",
       "      <td>10K</td>\n",
       "      <td>5.869600</td>\n",
       "      <td>Storage</td>\n",
       "      <td>corapmprducrfrctsto00</td>\n",
       "      <td>Usage</td>\n",
       "      <td>51.28</td>\n",
       "      <td>0.000000</td>\n",
       "      <td>0.000000</td>\n",
       "    </tr>\n",
       "    <tr>\n",
       "      <th>...</th>\n",
       "      <td>...</td>\n",
       "      <td>...</td>\n",
       "      <td>...</td>\n",
       "      <td>...</td>\n",
       "      <td>...</td>\n",
       "      <td>...</td>\n",
       "      <td>...</td>\n",
       "      <td>...</td>\n",
       "      <td>...</td>\n",
       "      <td>...</td>\n",
       "      <td>...</td>\n",
       "      <td>...</td>\n",
       "      <td>...</td>\n",
       "    </tr>\n",
       "    <tr>\n",
       "      <th>729857</th>\n",
       "      <td>westeurope</td>\n",
       "      <td>05/31/2024</td>\n",
       "      <td>05/31/2024</td>\n",
       "      <td>Microsoft.Kusto</td>\n",
       "      <td>Write Operations</td>\n",
       "      <td>10K</td>\n",
       "      <td>0.019200</td>\n",
       "      <td>Storage</td>\n",
       "      <td>gsebdpprddatglwwadx01</td>\n",
       "      <td>Usage</td>\n",
       "      <td>328.40</td>\n",
       "      <td>0.000000</td>\n",
       "      <td>0.000000</td>\n",
       "    </tr>\n",
       "    <tr>\n",
       "      <th>729859</th>\n",
       "      <td>francecentral</td>\n",
       "      <td>05/31/2024</td>\n",
       "      <td>05/31/2024</td>\n",
       "      <td>Microsoft.Storage</td>\n",
       "      <td>LRS List and Create Container Operations</td>\n",
       "      <td>10K</td>\n",
       "      <td>0.013500</td>\n",
       "      <td>Storage</td>\n",
       "      <td>corapmdevapmfrctsto00</td>\n",
       "      <td>Usage</td>\n",
       "      <td>51.28</td>\n",
       "      <td>0.000000</td>\n",
       "      <td>0.000000</td>\n",
       "    </tr>\n",
       "    <tr>\n",
       "      <th>729860</th>\n",
       "      <td>westeurope</td>\n",
       "      <td>05/31/2024</td>\n",
       "      <td>05/31/2024</td>\n",
       "      <td>Microsoft.Storage</td>\n",
       "      <td>LRS List and Create Container Operations</td>\n",
       "      <td>10K</td>\n",
       "      <td>0.013500</td>\n",
       "      <td>Storage</td>\n",
       "      <td>pcmdgtdevoshweeusto00</td>\n",
       "      <td>Usage</td>\n",
       "      <td>328.40</td>\n",
       "      <td>0.000000</td>\n",
       "      <td>0.000000</td>\n",
       "    </tr>\n",
       "    <tr>\n",
       "      <th>729867</th>\n",
       "      <td>westeurope</td>\n",
       "      <td>05/31/2024</td>\n",
       "      <td>05/31/2024</td>\n",
       "      <td>Microsoft.Compute</td>\n",
       "      <td>E2 v3/E2s v3</td>\n",
       "      <td>1 Hour</td>\n",
       "      <td>24.000000</td>\n",
       "      <td>Virtual Machines</td>\n",
       "      <td>pcmdgtintspcweeuvmw00</td>\n",
       "      <td>Usage</td>\n",
       "      <td>328.40</td>\n",
       "      <td>3.336000</td>\n",
       "      <td>1095.542400</td>\n",
       "    </tr>\n",
       "    <tr>\n",
       "      <th>729874</th>\n",
       "      <td>westeurope</td>\n",
       "      <td>05/31/2024</td>\n",
       "      <td>05/31/2024</td>\n",
       "      <td>Microsoft.Compute</td>\n",
       "      <td>D8a v4/D8as v4</td>\n",
       "      <td>1 Hour</td>\n",
       "      <td>6.250000</td>\n",
       "      <td>Virtual Machines</td>\n",
       "      <td>gsebtsintkwnweeuvml51</td>\n",
       "      <td>Usage</td>\n",
       "      <td>328.40</td>\n",
       "      <td>1.000000</td>\n",
       "      <td>328.400000</td>\n",
       "    </tr>\n",
       "  </tbody>\n",
       "</table>\n",
       "<p>312169 rows × 13 columns</p>\n",
       "</div>"
      ],
      "text/plain": [
       "               region     endDate   startDate        productCode  \\\n",
       "3          westeurope  04/09/2024  04/09/2024  Microsoft.Compute   \n",
       "5       francecentral  04/09/2024  04/09/2024  Microsoft.Storage   \n",
       "7       francecentral  04/09/2024  04/09/2024  Microsoft.Storage   \n",
       "10      francecentral  04/09/2024  04/09/2024  Microsoft.Storage   \n",
       "14      francecentral  04/09/2024  04/09/2024  Microsoft.Storage   \n",
       "...               ...         ...         ...                ...   \n",
       "729857     westeurope  05/31/2024  05/31/2024    Microsoft.Kusto   \n",
       "729859  francecentral  05/31/2024  05/31/2024  Microsoft.Storage   \n",
       "729860     westeurope  05/31/2024  05/31/2024  Microsoft.Storage   \n",
       "729867     westeurope  05/31/2024  05/31/2024  Microsoft.Compute   \n",
       "729874     westeurope  05/31/2024  05/31/2024  Microsoft.Compute   \n",
       "\n",
       "                                       usageType usageQuantityUnit  \\\n",
       "3                                    P4 LRS Disk           1/Month   \n",
       "5                            Hot LRS Data Stored        1 GB/Month   \n",
       "7                                List Operations               10K   \n",
       "10                               Read Operations               10K   \n",
       "14                          All Other Operations               10K   \n",
       "...                                          ...               ...   \n",
       "729857                          Write Operations               10K   \n",
       "729859  LRS List and Create Container Operations               10K   \n",
       "729860  LRS List and Create Container Operations               10K   \n",
       "729867                              E2 v3/E2s v3            1 Hour   \n",
       "729874                            D8a v4/D8as v4            1 Hour   \n",
       "\n",
       "        usageQuantity       serviceCode             resourceId itemType  \\\n",
       "3            0.033336           Storage  gsebtsintkanweeumdk51    Usage   \n",
       "5            0.009045           Storage  dypeaidevzzzfrctsto00    Usage   \n",
       "7            0.000300           Storage  shaeaiintshafrctsto01    Usage   \n",
       "10           9.803500           Storage  obheaidevzzzfrctsto00    Usage   \n",
       "14           5.869600           Storage  corapmprducrfrctsto00    Usage   \n",
       "...               ...               ...                    ...      ...   \n",
       "729857       0.019200           Storage  gsebdpprddatglwwadx01    Usage   \n",
       "729859       0.013500           Storage  corapmdevapmfrctsto00    Usage   \n",
       "729860       0.013500           Storage  pcmdgtdevoshweeusto00    Usage   \n",
       "729867      24.000000  Virtual Machines  pcmdgtintspcweeuvmw00    Usage   \n",
       "729874       6.250000  Virtual Machines  gsebtsintkwnweeuvml51    Usage   \n",
       "\n",
       "        CO2/kWh       kWh          CO2  \n",
       "3        328.40  0.000000     0.000000  \n",
       "5         51.28  0.000045     0.002319  \n",
       "7         51.28  0.000000     0.000000  \n",
       "10        51.28  0.000000     0.000000  \n",
       "14        51.28  0.000000     0.000000  \n",
       "...         ...       ...          ...  \n",
       "729857   328.40  0.000000     0.000000  \n",
       "729859    51.28  0.000000     0.000000  \n",
       "729860   328.40  0.000000     0.000000  \n",
       "729867   328.40  3.336000  1095.542400  \n",
       "729874   328.40  1.000000   328.400000  \n",
       "\n",
       "[312169 rows x 13 columns]"
      ]
     },
     "execution_count": 37,
     "metadata": {},
     "output_type": "execute_result"
    }
   ],
   "source": [
    "concat_avril_mai_m4\n",
    "# concat_avril_mai.to_csv('méthode4.csv', index=False)"
   ]
  },
  {
   "cell_type": "markdown",
   "id": "5bb6f506",
   "metadata": {
    "ExecuteTime": {
     "end_time": "2024-06-10T13:43:40.104527Z",
     "start_time": "2024-06-10T13:43:39.877546Z"
    },
    "heading_collapsed": true
   },
   "source": [
    "# Cinquième méthode (basée sur la 3)"
   ]
  },
  {
   "cell_type": "markdown",
   "id": "4b18b606",
   "metadata": {
    "hidden": true
   },
   "source": [
    "## Fonctions utilisées précédement"
   ]
  },
  {
   "cell_type": "code",
   "execution_count": 38,
   "id": "fd402ece",
   "metadata": {
    "ExecuteTime": {
     "end_time": "2024-06-12T07:11:25.970399Z",
     "start_time": "2024-06-12T07:11:25.963695Z"
    },
    "hidden": true
   },
   "outputs": [],
   "source": [
    "\"\"\"\n",
    "Séléction des colonnes utilisées par lotacloud\n",
    "\"\"\"\n",
    "def clean_columns(df) :\n",
    "    df_copy = df.copy()\n",
    "    df_copy = pd.DataFrame({ \n",
    "                     'usageAccountId' : df['AccountOwnerId'], \n",
    "                     'region' : df['ResourceLocation'], \n",
    "                     'region2' : df['MeterRegion'],\n",
    "                     'endDate' : df['Date'],\n",
    "                     'startDate' : df['Date'],\n",
    "                     'productCode' : df['ConsumedService'],\n",
    "                     'description' : df['ProductName'],\n",
    "                     'usageType' : df['MeterName'],\n",
    "                     'usageQuantityUnit' : df['UnitOfMeasure'],\n",
    "                     'cost' : '',# : df_may['QuantityUnit'],\n",
    "                     'usageQuantity' : df['Quantity'],\n",
    "                     'costCenter' : df['CostCenter'],\n",
    "                     'serviceCode' : df['MeterCategory'],\n",
    "                     'tags' : df['Tags'],\n",
    "                     'resourceId' : df['ResourceName'],\n",
    "                     'provider' : df['PublisherType'],\n",
    "                     'itemType' : df['ChargeType'],\n",
    "                     'currency' : df['BillingCurrencyCode'],\n",
    "                     'resourceGroup' : df['ResourceGroup'],\n",
    "                     'subscriptionName' : df['SubscriptionName'],\n",
    "                     'CO2/kWh' : 0,\n",
    "                     'kWh' : 0,\n",
    "                     'CO2' : 0,\n",
    "                    })\n",
    "    return df_copy"
   ]
  },
  {
   "cell_type": "code",
   "execution_count": 39,
   "id": "38d19512",
   "metadata": {
    "ExecuteTime": {
     "end_time": "2024-06-12T07:11:25.976296Z",
     "start_time": "2024-06-12T07:11:25.972460Z"
    },
    "hidden": true
   },
   "outputs": [],
   "source": [
    "\"\"\"\n",
    "Calcul du kWh pour le storage\n",
    "\"\"\"\n",
    "def kWh_sto (df) :\n",
    "    df_copy = df.copy()\n",
    "    df_copy.loc[(df_copy['usageQuantityUnit'] == \"1 GB\") & \n",
    "    (df_copy['serviceCode'].str.lower()=='storage'), 'kWh'] = 0.005*df_copy['usageQuantity']\n",
    "    df_copy.loc[(df_copy['usageQuantityUnit'] == \"1 GB/Month\") & \n",
    "    (df_copy['serviceCode'].str.lower()=='storage'), 'kWh'] = 0.005*df_copy['usageQuantity']\n",
    "    \n",
    "    return df_copy"
   ]
  },
  {
   "cell_type": "code",
   "execution_count": 40,
   "id": "e9d4676f",
   "metadata": {
    "ExecuteTime": {
     "end_time": "2024-06-12T07:11:25.988744Z",
     "start_time": "2024-06-12T07:11:25.983064Z"
    },
    "hidden": true
   },
   "outputs": [],
   "source": [
    "\"\"\"\n",
    "Calcul du kWh pour les machines viruelles\n",
    "\"\"\"\n",
    "\"\"\"\n",
    "Ici nous récupérons juste les valeure calculer dans le csv (RAM + TDP*CPU/Core)\n",
    "\"\"\"\n",
    "\n",
    "def kWh_vm_met_3(df_client_1, df_vm_1) :\n",
    "    df_client = df_client_1.copy()\n",
    "    df_vm = df_vm_1.copy()\n",
    "    for i in df_client['usageType'][df_client['serviceCode'].str.lower()=='virtual machines'].unique() :   \n",
    "        #Filtrer sur le nom de la machine viruelle :\n",
    "        if df_vm[df_vm['Name'] == i].size == 0 :\n",
    "            break\n",
    "        else :\n",
    "            df_vm_filtred=df_vm[df_vm['Name'] == i]\n",
    "            tdp=df_vm_filtred['TDP rec_kWh']\n",
    "            tdp=tdp.iloc[0]\n",
    "            tdp = float(tdp.replace(',', '.'))### /!\\ Tester si ca fonctionne car est ce que nombre ?\n",
    "        #Ajout de l'info dans notre DF sur : le nom de la vm et sur les lignes vm\n",
    "            df_client.loc[(df_client['usageQuantityUnit'] == \"1 Hour\") & \n",
    "                          (df_client['usageType'] == i) & \n",
    "                          (df_client['serviceCode'].str.lower()=='virtual machines')\n",
    "                          , 'kWh']= tdp*df_client['usageQuantity']\n",
    "    \n",
    "    return df_client"
   ]
  },
  {
   "cell_type": "markdown",
   "id": "bdfafb64",
   "metadata": {
    "hidden": true
   },
   "source": [
    "## Fonction CO2 par ville"
   ]
  },
  {
   "cell_type": "code",
   "execution_count": 41,
   "id": "14d183ec",
   "metadata": {
    "ExecuteTime": {
     "end_time": "2024-06-12T07:11:25.995761Z",
     "start_time": "2024-06-12T07:11:25.990732Z"
    },
    "hidden": true
   },
   "outputs": [],
   "source": [
    "\"\"\"\n",
    "Ajout de l'information CO2/kWh dans sa colonne\n",
    "\"\"\"\n",
    "def co2_kWh_city(df, df_geo):\n",
    "    df_copy = df.copy()\n",
    "    df_geo_copy = df_geo.copy()\n",
    "    for i in df_geo_copy['region'].value_counts().index :# Verifier pour les valeures nul si pris en compte\n",
    "        co2= df_geo_copy['ville'][df_geo_copy['region']==i]\n",
    "        co2=co2.iloc[0]#Verifier si nombre\n",
    "        co2 = float(co2.replace(',', '.'))\n",
    "        df_copy.loc[df_copy['region'] == i, 'CO2/kWh'] = co2\n",
    "    \n",
    "    return df_copy"
   ]
  },
  {
   "cell_type": "markdown",
   "id": "cb64caa9",
   "metadata": {
    "hidden": true
   },
   "source": [
    "## Calcul CO2"
   ]
  },
  {
   "cell_type": "code",
   "execution_count": 42,
   "id": "54d25da4",
   "metadata": {
    "ExecuteTime": {
     "end_time": "2024-06-12T07:11:26.003175Z",
     "start_time": "2024-06-12T07:11:25.997840Z"
    },
    "hidden": true
   },
   "outputs": [],
   "source": [
    "\"\"\"\n",
    "Calcul pour le CO2\n",
    "\"\"\"\n",
    "def co2(df):\n",
    "    df_copy = df.copy()\n",
    "    df_copy.loc[:, 'CO2'] = df_copy['kWh']*df_copy['CO2/kWh']\n",
    "    \n",
    "    return df_copy\n",
    "\n",
    "def calculation_co2_met_5(df, df_geo, df_vm) :\n",
    "    #Copie des Data frame\n",
    "        df_copy = df.copy()\n",
    "        df_geo_copy = df_geo.copy()\n",
    "        df_vm_copy = df_vm.copy()\n",
    "        \n",
    "    #Filtre de colonnes \n",
    "        df_copy = clean_columns(df_copy)\n",
    "        \n",
    "    #Calculs kWh\n",
    "        df_copy = kWh_vm_met_3(df_copy, df_vm_copy)\n",
    "        df_copy = kWh_sto(df_copy)\n",
    "    \n",
    "    #Ajout CO2/kWh\n",
    "        df_copy = co2_kWh_city(df_copy, df_geo_copy)\n",
    "        \n",
    "    #Calcul CO2\n",
    "        df_copy = co2_test(df_copy)\n",
    "        \n",
    "        return df_copy"
   ]
  },
  {
   "cell_type": "code",
   "execution_count": 43,
   "id": "d2363ca6",
   "metadata": {
    "ExecuteTime": {
     "end_time": "2024-06-12T07:11:35.348334Z",
     "start_time": "2024-06-12T07:11:26.003175Z"
    },
    "hidden": true
   },
   "outputs": [],
   "source": [
    "avril_df_m5 = calculation_co2_met_5(df_april, df_geo, df_vm)\n",
    "mai_df_m5 = calculation_co2_met_5(df_may, df_geo, df_vm)"
   ]
  },
  {
   "cell_type": "code",
   "execution_count": 44,
   "id": "781da748",
   "metadata": {
    "ExecuteTime": {
     "end_time": "2024-06-12T07:11:35.952782Z",
     "start_time": "2024-06-12T07:11:35.350298Z"
    },
    "hidden": true
   },
   "outputs": [],
   "source": [
    "concat_avril_mai_m5 = pd.concat([avril_df_m5, mai_df_m5], ignore_index=True)\n",
    "concat_avril_mai_m5 = concat_avril_mai_m5[['region', 'endDate', 'startDate', 'productCode', 'usageType', 'usageQuantityUnit',\n",
    "                              'usageQuantity', 'serviceCode', 'resourceId', 'itemType', 'CO2/kWh','kWh','CO2']]\n",
    "concat_avril_mai_m5= concat_avril_mai_m5[(concat_avril_mai_m5['serviceCode'].str.lower()=='virtual machines') | (concat_avril_mai_m5['serviceCode'].str.lower()=='storage')]"
   ]
  },
  {
   "cell_type": "code",
   "execution_count": 45,
   "id": "583c6059",
   "metadata": {
    "ExecuteTime": {
     "end_time": "2024-06-12T07:11:35.971314Z",
     "start_time": "2024-06-12T07:11:35.952782Z"
    },
    "hidden": true
   },
   "outputs": [
    {
     "data": {
      "text/html": [
       "<div>\n",
       "<style scoped>\n",
       "    .dataframe tbody tr th:only-of-type {\n",
       "        vertical-align: middle;\n",
       "    }\n",
       "\n",
       "    .dataframe tbody tr th {\n",
       "        vertical-align: top;\n",
       "    }\n",
       "\n",
       "    .dataframe thead th {\n",
       "        text-align: right;\n",
       "    }\n",
       "</style>\n",
       "<table border=\"1\" class=\"dataframe\">\n",
       "  <thead>\n",
       "    <tr style=\"text-align: right;\">\n",
       "      <th></th>\n",
       "      <th>region</th>\n",
       "      <th>endDate</th>\n",
       "      <th>startDate</th>\n",
       "      <th>productCode</th>\n",
       "      <th>usageType</th>\n",
       "      <th>usageQuantityUnit</th>\n",
       "      <th>usageQuantity</th>\n",
       "      <th>serviceCode</th>\n",
       "      <th>resourceId</th>\n",
       "      <th>itemType</th>\n",
       "      <th>CO2/kWh</th>\n",
       "      <th>kWh</th>\n",
       "      <th>CO2</th>\n",
       "    </tr>\n",
       "  </thead>\n",
       "  <tbody>\n",
       "    <tr>\n",
       "      <th>3</th>\n",
       "      <td>westeurope</td>\n",
       "      <td>04/09/2024</td>\n",
       "      <td>04/09/2024</td>\n",
       "      <td>Microsoft.Compute</td>\n",
       "      <td>P4 LRS Disk</td>\n",
       "      <td>1/Month</td>\n",
       "      <td>0.033336</td>\n",
       "      <td>Storage</td>\n",
       "      <td>gsebtsintkanweeumdk51</td>\n",
       "      <td>Usage</td>\n",
       "      <td>328.40</td>\n",
       "      <td>0.000000</td>\n",
       "      <td>0.000000</td>\n",
       "    </tr>\n",
       "    <tr>\n",
       "      <th>5</th>\n",
       "      <td>francecentral</td>\n",
       "      <td>04/09/2024</td>\n",
       "      <td>04/09/2024</td>\n",
       "      <td>Microsoft.Storage</td>\n",
       "      <td>Hot LRS Data Stored</td>\n",
       "      <td>1 GB/Month</td>\n",
       "      <td>0.009045</td>\n",
       "      <td>Storage</td>\n",
       "      <td>dypeaidevzzzfrctsto00</td>\n",
       "      <td>Usage</td>\n",
       "      <td>51.28</td>\n",
       "      <td>0.000045</td>\n",
       "      <td>0.002319</td>\n",
       "    </tr>\n",
       "    <tr>\n",
       "      <th>7</th>\n",
       "      <td>francecentral</td>\n",
       "      <td>04/09/2024</td>\n",
       "      <td>04/09/2024</td>\n",
       "      <td>Microsoft.Storage</td>\n",
       "      <td>List Operations</td>\n",
       "      <td>10K</td>\n",
       "      <td>0.000300</td>\n",
       "      <td>Storage</td>\n",
       "      <td>shaeaiintshafrctsto01</td>\n",
       "      <td>Usage</td>\n",
       "      <td>51.28</td>\n",
       "      <td>0.000000</td>\n",
       "      <td>0.000000</td>\n",
       "    </tr>\n",
       "    <tr>\n",
       "      <th>10</th>\n",
       "      <td>francecentral</td>\n",
       "      <td>04/09/2024</td>\n",
       "      <td>04/09/2024</td>\n",
       "      <td>Microsoft.Storage</td>\n",
       "      <td>Read Operations</td>\n",
       "      <td>10K</td>\n",
       "      <td>9.803500</td>\n",
       "      <td>Storage</td>\n",
       "      <td>obheaidevzzzfrctsto00</td>\n",
       "      <td>Usage</td>\n",
       "      <td>51.28</td>\n",
       "      <td>0.000000</td>\n",
       "      <td>0.000000</td>\n",
       "    </tr>\n",
       "    <tr>\n",
       "      <th>14</th>\n",
       "      <td>francecentral</td>\n",
       "      <td>04/09/2024</td>\n",
       "      <td>04/09/2024</td>\n",
       "      <td>Microsoft.Storage</td>\n",
       "      <td>All Other Operations</td>\n",
       "      <td>10K</td>\n",
       "      <td>5.869600</td>\n",
       "      <td>Storage</td>\n",
       "      <td>corapmprducrfrctsto00</td>\n",
       "      <td>Usage</td>\n",
       "      <td>51.28</td>\n",
       "      <td>0.000000</td>\n",
       "      <td>0.000000</td>\n",
       "    </tr>\n",
       "    <tr>\n",
       "      <th>...</th>\n",
       "      <td>...</td>\n",
       "      <td>...</td>\n",
       "      <td>...</td>\n",
       "      <td>...</td>\n",
       "      <td>...</td>\n",
       "      <td>...</td>\n",
       "      <td>...</td>\n",
       "      <td>...</td>\n",
       "      <td>...</td>\n",
       "      <td>...</td>\n",
       "      <td>...</td>\n",
       "      <td>...</td>\n",
       "      <td>...</td>\n",
       "    </tr>\n",
       "    <tr>\n",
       "      <th>729857</th>\n",
       "      <td>westeurope</td>\n",
       "      <td>05/31/2024</td>\n",
       "      <td>05/31/2024</td>\n",
       "      <td>Microsoft.Kusto</td>\n",
       "      <td>Write Operations</td>\n",
       "      <td>10K</td>\n",
       "      <td>0.019200</td>\n",
       "      <td>Storage</td>\n",
       "      <td>gsebdpprddatglwwadx01</td>\n",
       "      <td>Usage</td>\n",
       "      <td>328.40</td>\n",
       "      <td>0.000000</td>\n",
       "      <td>0.000000</td>\n",
       "    </tr>\n",
       "    <tr>\n",
       "      <th>729859</th>\n",
       "      <td>francecentral</td>\n",
       "      <td>05/31/2024</td>\n",
       "      <td>05/31/2024</td>\n",
       "      <td>Microsoft.Storage</td>\n",
       "      <td>LRS List and Create Container Operations</td>\n",
       "      <td>10K</td>\n",
       "      <td>0.013500</td>\n",
       "      <td>Storage</td>\n",
       "      <td>corapmdevapmfrctsto00</td>\n",
       "      <td>Usage</td>\n",
       "      <td>51.28</td>\n",
       "      <td>0.000000</td>\n",
       "      <td>0.000000</td>\n",
       "    </tr>\n",
       "    <tr>\n",
       "      <th>729860</th>\n",
       "      <td>westeurope</td>\n",
       "      <td>05/31/2024</td>\n",
       "      <td>05/31/2024</td>\n",
       "      <td>Microsoft.Storage</td>\n",
       "      <td>LRS List and Create Container Operations</td>\n",
       "      <td>10K</td>\n",
       "      <td>0.013500</td>\n",
       "      <td>Storage</td>\n",
       "      <td>pcmdgtdevoshweeusto00</td>\n",
       "      <td>Usage</td>\n",
       "      <td>328.40</td>\n",
       "      <td>0.000000</td>\n",
       "      <td>0.000000</td>\n",
       "    </tr>\n",
       "    <tr>\n",
       "      <th>729867</th>\n",
       "      <td>westeurope</td>\n",
       "      <td>05/31/2024</td>\n",
       "      <td>05/31/2024</td>\n",
       "      <td>Microsoft.Compute</td>\n",
       "      <td>E2 v3/E2s v3</td>\n",
       "      <td>1 Hour</td>\n",
       "      <td>24.000000</td>\n",
       "      <td>Virtual Machines</td>\n",
       "      <td>pcmdgtintspcweeuvmw00</td>\n",
       "      <td>Usage</td>\n",
       "      <td>328.40</td>\n",
       "      <td>0.432000</td>\n",
       "      <td>141.868800</td>\n",
       "    </tr>\n",
       "    <tr>\n",
       "      <th>729874</th>\n",
       "      <td>westeurope</td>\n",
       "      <td>05/31/2024</td>\n",
       "      <td>05/31/2024</td>\n",
       "      <td>Microsoft.Compute</td>\n",
       "      <td>D8a v4/D8as v4</td>\n",
       "      <td>1 Hour</td>\n",
       "      <td>6.250000</td>\n",
       "      <td>Virtual Machines</td>\n",
       "      <td>gsebtsintkwnweeuvml51</td>\n",
       "      <td>Usage</td>\n",
       "      <td>328.40</td>\n",
       "      <td>0.275000</td>\n",
       "      <td>90.310000</td>\n",
       "    </tr>\n",
       "  </tbody>\n",
       "</table>\n",
       "<p>312169 rows × 13 columns</p>\n",
       "</div>"
      ],
      "text/plain": [
       "               region     endDate   startDate        productCode  \\\n",
       "3          westeurope  04/09/2024  04/09/2024  Microsoft.Compute   \n",
       "5       francecentral  04/09/2024  04/09/2024  Microsoft.Storage   \n",
       "7       francecentral  04/09/2024  04/09/2024  Microsoft.Storage   \n",
       "10      francecentral  04/09/2024  04/09/2024  Microsoft.Storage   \n",
       "14      francecentral  04/09/2024  04/09/2024  Microsoft.Storage   \n",
       "...               ...         ...         ...                ...   \n",
       "729857     westeurope  05/31/2024  05/31/2024    Microsoft.Kusto   \n",
       "729859  francecentral  05/31/2024  05/31/2024  Microsoft.Storage   \n",
       "729860     westeurope  05/31/2024  05/31/2024  Microsoft.Storage   \n",
       "729867     westeurope  05/31/2024  05/31/2024  Microsoft.Compute   \n",
       "729874     westeurope  05/31/2024  05/31/2024  Microsoft.Compute   \n",
       "\n",
       "                                       usageType usageQuantityUnit  \\\n",
       "3                                    P4 LRS Disk           1/Month   \n",
       "5                            Hot LRS Data Stored        1 GB/Month   \n",
       "7                                List Operations               10K   \n",
       "10                               Read Operations               10K   \n",
       "14                          All Other Operations               10K   \n",
       "...                                          ...               ...   \n",
       "729857                          Write Operations               10K   \n",
       "729859  LRS List and Create Container Operations               10K   \n",
       "729860  LRS List and Create Container Operations               10K   \n",
       "729867                              E2 v3/E2s v3            1 Hour   \n",
       "729874                            D8a v4/D8as v4            1 Hour   \n",
       "\n",
       "        usageQuantity       serviceCode             resourceId itemType  \\\n",
       "3            0.033336           Storage  gsebtsintkanweeumdk51    Usage   \n",
       "5            0.009045           Storage  dypeaidevzzzfrctsto00    Usage   \n",
       "7            0.000300           Storage  shaeaiintshafrctsto01    Usage   \n",
       "10           9.803500           Storage  obheaidevzzzfrctsto00    Usage   \n",
       "14           5.869600           Storage  corapmprducrfrctsto00    Usage   \n",
       "...               ...               ...                    ...      ...   \n",
       "729857       0.019200           Storage  gsebdpprddatglwwadx01    Usage   \n",
       "729859       0.013500           Storage  corapmdevapmfrctsto00    Usage   \n",
       "729860       0.013500           Storage  pcmdgtdevoshweeusto00    Usage   \n",
       "729867      24.000000  Virtual Machines  pcmdgtintspcweeuvmw00    Usage   \n",
       "729874       6.250000  Virtual Machines  gsebtsintkwnweeuvml51    Usage   \n",
       "\n",
       "        CO2/kWh       kWh         CO2  \n",
       "3        328.40  0.000000    0.000000  \n",
       "5         51.28  0.000045    0.002319  \n",
       "7         51.28  0.000000    0.000000  \n",
       "10        51.28  0.000000    0.000000  \n",
       "14        51.28  0.000000    0.000000  \n",
       "...         ...       ...         ...  \n",
       "729857   328.40  0.000000    0.000000  \n",
       "729859    51.28  0.000000    0.000000  \n",
       "729860   328.40  0.000000    0.000000  \n",
       "729867   328.40  0.432000  141.868800  \n",
       "729874   328.40  0.275000   90.310000  \n",
       "\n",
       "[312169 rows x 13 columns]"
      ]
     },
     "execution_count": 45,
     "metadata": {},
     "output_type": "execute_result"
    }
   ],
   "source": [
    "concat_avril_mai_m5\n",
    "# concat_avril_mai_m5.to_csv('méthode5.csv', index=False)"
   ]
  },
  {
   "cell_type": "markdown",
   "id": "8122779d",
   "metadata": {
    "heading_collapsed": true
   },
   "source": [
    "# M4 et M5 en une fonction / (pas utile)"
   ]
  },
  {
   "cell_type": "markdown",
   "id": "18c6e6ce",
   "metadata": {
    "hidden": true
   },
   "source": [
    "Nous allons ici faire une fonction qui ajoute une colonne pour chaque méthode "
   ]
  },
  {
   "cell_type": "code",
   "execution_count": 46,
   "id": "873674cc",
   "metadata": {
    "ExecuteTime": {
     "end_time": "2024-06-12T07:11:35.978169Z",
     "start_time": "2024-06-12T07:11:35.971314Z"
    },
    "hidden": true
   },
   "outputs": [],
   "source": [
    "def m4_m5 (df, df_geo, df_vm) :\n",
    "    df_final = df.copy()\n",
    "    df_m4 = df.copy()\n",
    "    df_m5 = df.copy()\n",
    "    \n",
    "    df_final=clean_columns(df_final)\n",
    "    \n",
    "    df_m4 = calculation_co2_m4(df_m4, df_geo, df_vm)\n",
    "    df_m5 = calculation_co2_met_5(df_m5, df_geo, df_vm)\n",
    "    \n",
    "    df_final=df_final.drop('CO2/kWh', axis=1)\n",
    "    df_final=df_final.drop('kWh', axis=1)\n",
    "    df_final=df_final.drop('CO2', axis=1)\n",
    "    \n",
    "    df_final['CO2_methode_4']= df_m4['CO2']\n",
    "    df_final['CO2_methode_5']= df_m5['CO2']\n",
    "    \n",
    "    return df_final\n",
    "    \n",
    "   "
   ]
  },
  {
   "cell_type": "code",
   "execution_count": 47,
   "id": "dcef3bd4",
   "metadata": {
    "ExecuteTime": {
     "end_time": "2024-06-12T07:11:56.282851Z",
     "start_time": "2024-06-12T07:11:35.979792Z"
    },
    "hidden": true
   },
   "outputs": [],
   "source": [
    "m4m5_april=m4_m5 (df_april, df_geo, df_vm)\n",
    "m4m5_may=m4_m5 (df_may, df_geo, df_vm)"
   ]
  },
  {
   "cell_type": "code",
   "execution_count": 48,
   "id": "9f30bec3",
   "metadata": {
    "ExecuteTime": {
     "end_time": "2024-06-12T07:11:56.885719Z",
     "start_time": "2024-06-12T07:11:56.282851Z"
    },
    "hidden": true
   },
   "outputs": [],
   "source": [
    "concat_m4m5 = pd.concat([m4m5_april, m4m5_may], ignore_index=True)\n",
    "concat_m4m5 = concat_m4m5[['region', 'endDate', 'startDate', 'productCode', 'usageType', 'usageQuantityUnit',\n",
    "                              'usageQuantity', 'serviceCode', 'resourceId', 'itemType', 'CO2_methode_4','CO2_methode_5']]\n",
    "concat_m4m5= concat_m4m5[(concat_m4m5['serviceCode'].str.lower()=='virtual machines') | (concat_m4m5['serviceCode'].str.lower()=='storage')]"
   ]
  },
  {
   "cell_type": "code",
   "execution_count": 49,
   "id": "b790554d",
   "metadata": {
    "ExecuteTime": {
     "end_time": "2024-06-12T07:11:56.902492Z",
     "start_time": "2024-06-12T07:11:56.885719Z"
    },
    "hidden": true
   },
   "outputs": [
    {
     "data": {
      "text/html": [
       "<div>\n",
       "<style scoped>\n",
       "    .dataframe tbody tr th:only-of-type {\n",
       "        vertical-align: middle;\n",
       "    }\n",
       "\n",
       "    .dataframe tbody tr th {\n",
       "        vertical-align: top;\n",
       "    }\n",
       "\n",
       "    .dataframe thead th {\n",
       "        text-align: right;\n",
       "    }\n",
       "</style>\n",
       "<table border=\"1\" class=\"dataframe\">\n",
       "  <thead>\n",
       "    <tr style=\"text-align: right;\">\n",
       "      <th></th>\n",
       "      <th>region</th>\n",
       "      <th>endDate</th>\n",
       "      <th>startDate</th>\n",
       "      <th>productCode</th>\n",
       "      <th>usageType</th>\n",
       "      <th>usageQuantityUnit</th>\n",
       "      <th>usageQuantity</th>\n",
       "      <th>serviceCode</th>\n",
       "      <th>resourceId</th>\n",
       "      <th>itemType</th>\n",
       "      <th>CO2_methode_4</th>\n",
       "      <th>CO2_methode_5</th>\n",
       "    </tr>\n",
       "  </thead>\n",
       "  <tbody>\n",
       "    <tr>\n",
       "      <th>3</th>\n",
       "      <td>westeurope</td>\n",
       "      <td>04/09/2024</td>\n",
       "      <td>04/09/2024</td>\n",
       "      <td>Microsoft.Compute</td>\n",
       "      <td>P4 LRS Disk</td>\n",
       "      <td>1/Month</td>\n",
       "      <td>0.033336</td>\n",
       "      <td>Storage</td>\n",
       "      <td>gsebtsintkanweeumdk51</td>\n",
       "      <td>Usage</td>\n",
       "      <td>0.000000</td>\n",
       "      <td>0.000000</td>\n",
       "    </tr>\n",
       "    <tr>\n",
       "      <th>5</th>\n",
       "      <td>francecentral</td>\n",
       "      <td>04/09/2024</td>\n",
       "      <td>04/09/2024</td>\n",
       "      <td>Microsoft.Storage</td>\n",
       "      <td>Hot LRS Data Stored</td>\n",
       "      <td>1 GB/Month</td>\n",
       "      <td>0.009045</td>\n",
       "      <td>Storage</td>\n",
       "      <td>dypeaidevzzzfrctsto00</td>\n",
       "      <td>Usage</td>\n",
       "      <td>0.002319</td>\n",
       "      <td>0.002319</td>\n",
       "    </tr>\n",
       "    <tr>\n",
       "      <th>7</th>\n",
       "      <td>francecentral</td>\n",
       "      <td>04/09/2024</td>\n",
       "      <td>04/09/2024</td>\n",
       "      <td>Microsoft.Storage</td>\n",
       "      <td>List Operations</td>\n",
       "      <td>10K</td>\n",
       "      <td>0.000300</td>\n",
       "      <td>Storage</td>\n",
       "      <td>shaeaiintshafrctsto01</td>\n",
       "      <td>Usage</td>\n",
       "      <td>0.000000</td>\n",
       "      <td>0.000000</td>\n",
       "    </tr>\n",
       "    <tr>\n",
       "      <th>10</th>\n",
       "      <td>francecentral</td>\n",
       "      <td>04/09/2024</td>\n",
       "      <td>04/09/2024</td>\n",
       "      <td>Microsoft.Storage</td>\n",
       "      <td>Read Operations</td>\n",
       "      <td>10K</td>\n",
       "      <td>9.803500</td>\n",
       "      <td>Storage</td>\n",
       "      <td>obheaidevzzzfrctsto00</td>\n",
       "      <td>Usage</td>\n",
       "      <td>0.000000</td>\n",
       "      <td>0.000000</td>\n",
       "    </tr>\n",
       "    <tr>\n",
       "      <th>14</th>\n",
       "      <td>francecentral</td>\n",
       "      <td>04/09/2024</td>\n",
       "      <td>04/09/2024</td>\n",
       "      <td>Microsoft.Storage</td>\n",
       "      <td>All Other Operations</td>\n",
       "      <td>10K</td>\n",
       "      <td>5.869600</td>\n",
       "      <td>Storage</td>\n",
       "      <td>corapmprducrfrctsto00</td>\n",
       "      <td>Usage</td>\n",
       "      <td>0.000000</td>\n",
       "      <td>0.000000</td>\n",
       "    </tr>\n",
       "    <tr>\n",
       "      <th>...</th>\n",
       "      <td>...</td>\n",
       "      <td>...</td>\n",
       "      <td>...</td>\n",
       "      <td>...</td>\n",
       "      <td>...</td>\n",
       "      <td>...</td>\n",
       "      <td>...</td>\n",
       "      <td>...</td>\n",
       "      <td>...</td>\n",
       "      <td>...</td>\n",
       "      <td>...</td>\n",
       "      <td>...</td>\n",
       "    </tr>\n",
       "    <tr>\n",
       "      <th>729857</th>\n",
       "      <td>westeurope</td>\n",
       "      <td>05/31/2024</td>\n",
       "      <td>05/31/2024</td>\n",
       "      <td>Microsoft.Kusto</td>\n",
       "      <td>Write Operations</td>\n",
       "      <td>10K</td>\n",
       "      <td>0.019200</td>\n",
       "      <td>Storage</td>\n",
       "      <td>gsebdpprddatglwwadx01</td>\n",
       "      <td>Usage</td>\n",
       "      <td>0.000000</td>\n",
       "      <td>0.000000</td>\n",
       "    </tr>\n",
       "    <tr>\n",
       "      <th>729859</th>\n",
       "      <td>francecentral</td>\n",
       "      <td>05/31/2024</td>\n",
       "      <td>05/31/2024</td>\n",
       "      <td>Microsoft.Storage</td>\n",
       "      <td>LRS List and Create Container Operations</td>\n",
       "      <td>10K</td>\n",
       "      <td>0.013500</td>\n",
       "      <td>Storage</td>\n",
       "      <td>corapmdevapmfrctsto00</td>\n",
       "      <td>Usage</td>\n",
       "      <td>0.000000</td>\n",
       "      <td>0.000000</td>\n",
       "    </tr>\n",
       "    <tr>\n",
       "      <th>729860</th>\n",
       "      <td>westeurope</td>\n",
       "      <td>05/31/2024</td>\n",
       "      <td>05/31/2024</td>\n",
       "      <td>Microsoft.Storage</td>\n",
       "      <td>LRS List and Create Container Operations</td>\n",
       "      <td>10K</td>\n",
       "      <td>0.013500</td>\n",
       "      <td>Storage</td>\n",
       "      <td>pcmdgtdevoshweeusto00</td>\n",
       "      <td>Usage</td>\n",
       "      <td>0.000000</td>\n",
       "      <td>0.000000</td>\n",
       "    </tr>\n",
       "    <tr>\n",
       "      <th>729867</th>\n",
       "      <td>westeurope</td>\n",
       "      <td>05/31/2024</td>\n",
       "      <td>05/31/2024</td>\n",
       "      <td>Microsoft.Compute</td>\n",
       "      <td>E2 v3/E2s v3</td>\n",
       "      <td>1 Hour</td>\n",
       "      <td>24.000000</td>\n",
       "      <td>Virtual Machines</td>\n",
       "      <td>pcmdgtintspcweeuvmw00</td>\n",
       "      <td>Usage</td>\n",
       "      <td>1095.542400</td>\n",
       "      <td>141.868800</td>\n",
       "    </tr>\n",
       "    <tr>\n",
       "      <th>729874</th>\n",
       "      <td>westeurope</td>\n",
       "      <td>05/31/2024</td>\n",
       "      <td>05/31/2024</td>\n",
       "      <td>Microsoft.Compute</td>\n",
       "      <td>D8a v4/D8as v4</td>\n",
       "      <td>1 Hour</td>\n",
       "      <td>6.250000</td>\n",
       "      <td>Virtual Machines</td>\n",
       "      <td>gsebtsintkwnweeuvml51</td>\n",
       "      <td>Usage</td>\n",
       "      <td>328.400000</td>\n",
       "      <td>90.310000</td>\n",
       "    </tr>\n",
       "  </tbody>\n",
       "</table>\n",
       "<p>312169 rows × 12 columns</p>\n",
       "</div>"
      ],
      "text/plain": [
       "               region     endDate   startDate        productCode  \\\n",
       "3          westeurope  04/09/2024  04/09/2024  Microsoft.Compute   \n",
       "5       francecentral  04/09/2024  04/09/2024  Microsoft.Storage   \n",
       "7       francecentral  04/09/2024  04/09/2024  Microsoft.Storage   \n",
       "10      francecentral  04/09/2024  04/09/2024  Microsoft.Storage   \n",
       "14      francecentral  04/09/2024  04/09/2024  Microsoft.Storage   \n",
       "...               ...         ...         ...                ...   \n",
       "729857     westeurope  05/31/2024  05/31/2024    Microsoft.Kusto   \n",
       "729859  francecentral  05/31/2024  05/31/2024  Microsoft.Storage   \n",
       "729860     westeurope  05/31/2024  05/31/2024  Microsoft.Storage   \n",
       "729867     westeurope  05/31/2024  05/31/2024  Microsoft.Compute   \n",
       "729874     westeurope  05/31/2024  05/31/2024  Microsoft.Compute   \n",
       "\n",
       "                                       usageType usageQuantityUnit  \\\n",
       "3                                    P4 LRS Disk           1/Month   \n",
       "5                            Hot LRS Data Stored        1 GB/Month   \n",
       "7                                List Operations               10K   \n",
       "10                               Read Operations               10K   \n",
       "14                          All Other Operations               10K   \n",
       "...                                          ...               ...   \n",
       "729857                          Write Operations               10K   \n",
       "729859  LRS List and Create Container Operations               10K   \n",
       "729860  LRS List and Create Container Operations               10K   \n",
       "729867                              E2 v3/E2s v3            1 Hour   \n",
       "729874                            D8a v4/D8as v4            1 Hour   \n",
       "\n",
       "        usageQuantity       serviceCode             resourceId itemType  \\\n",
       "3            0.033336           Storage  gsebtsintkanweeumdk51    Usage   \n",
       "5            0.009045           Storage  dypeaidevzzzfrctsto00    Usage   \n",
       "7            0.000300           Storage  shaeaiintshafrctsto01    Usage   \n",
       "10           9.803500           Storage  obheaidevzzzfrctsto00    Usage   \n",
       "14           5.869600           Storage  corapmprducrfrctsto00    Usage   \n",
       "...               ...               ...                    ...      ...   \n",
       "729857       0.019200           Storage  gsebdpprddatglwwadx01    Usage   \n",
       "729859       0.013500           Storage  corapmdevapmfrctsto00    Usage   \n",
       "729860       0.013500           Storage  pcmdgtdevoshweeusto00    Usage   \n",
       "729867      24.000000  Virtual Machines  pcmdgtintspcweeuvmw00    Usage   \n",
       "729874       6.250000  Virtual Machines  gsebtsintkwnweeuvml51    Usage   \n",
       "\n",
       "        CO2_methode_4  CO2_methode_5  \n",
       "3            0.000000       0.000000  \n",
       "5            0.002319       0.002319  \n",
       "7            0.000000       0.000000  \n",
       "10           0.000000       0.000000  \n",
       "14           0.000000       0.000000  \n",
       "...               ...            ...  \n",
       "729857       0.000000       0.000000  \n",
       "729859       0.000000       0.000000  \n",
       "729860       0.000000       0.000000  \n",
       "729867    1095.542400     141.868800  \n",
       "729874     328.400000      90.310000  \n",
       "\n",
       "[312169 rows x 12 columns]"
      ]
     },
     "execution_count": 49,
     "metadata": {},
     "output_type": "execute_result"
    }
   ],
   "source": [
    "concat_m4m5\n",
    "# concat_m4m5.to_csv('méthode4_5.csv', index=False)"
   ]
  },
  {
   "cell_type": "markdown",
   "id": "ca8b7b55",
   "metadata": {
    "heading_collapsed": true
   },
   "source": [
    "# Fonction Prix "
   ]
  },
  {
   "cell_type": "markdown",
   "id": "09db5802",
   "metadata": {
    "hidden": true
   },
   "source": [
    "Le but ici est de pouvoir mettre en avant le prix des data centers afin de pouvoir le comparer avec l'emission de CO2"
   ]
  },
  {
   "cell_type": "code",
   "execution_count": 50,
   "id": "e9c9a3da",
   "metadata": {
    "ExecuteTime": {
     "end_time": "2024-06-12T07:11:56.911100Z",
     "start_time": "2024-06-12T07:11:56.902492Z"
    },
    "hidden": true
   },
   "outputs": [],
   "source": [
    "\"\"\"\n",
    "Attention ici il le dataframe entrant devra déja être passé par une des méthodes pour fonctionner\n",
    "\"\"\"\n",
    "\n",
    "def prix_vm (df, df_price) :\n",
    "    df_copy = df.copy()\n",
    "    df_price_copy = df_price.copy()\n",
    "    df_copy.loc[:,'price']=0\n",
    "\n",
    "    for i in df_copy['usageType'][df_copy['serviceCode'].str.lower()=='virtual machines'].unique() :   \n",
    "        for j in df_copy['region'][(df_copy['serviceCode'].str.lower()=='virtual machines') & (df_copy['usageType']==i)].unique():\n",
    "\n",
    "            result=df_price_copy[j][df_price_copy['Name'] == i] #filtrer sur la machine virtuelle\n",
    "            result=result.iloc[0]\n",
    "            result = float(result.replace(',', '.'))\n",
    "            \n",
    "\n",
    "            df_copy.loc[(df_copy['serviceCode'].str.lower()=='virtual machines') & \n",
    "                          (df_copy['usageType'] == i) & \n",
    "                          (df_copy['region'] == j)\n",
    "                          , 'price']= result*df_copy['usageQuantity']\n",
    "    \n",
    "    return df_copy\n",
    "    \n",
    "    \n",
    "    "
   ]
  },
  {
   "cell_type": "code",
   "execution_count": 51,
   "id": "ee793ccf",
   "metadata": {
    "ExecuteTime": {
     "end_time": "2024-06-12T07:12:03.194325Z",
     "start_time": "2024-06-12T07:11:56.911100Z"
    },
    "hidden": true
   },
   "outputs": [],
   "source": [
    "prix_m4_m5=prix_vm(concat_m4m5, df_price)"
   ]
  },
  {
   "cell_type": "code",
   "execution_count": 52,
   "id": "30aed3e8",
   "metadata": {
    "ExecuteTime": {
     "end_time": "2024-06-12T07:12:03.200640Z",
     "start_time": "2024-06-12T07:12:03.194325Z"
    },
    "hidden": true
   },
   "outputs": [],
   "source": [
    "# prix_m4_m5.to_csv('prix_méthode4_5.csv', index=False)"
   ]
  },
  {
   "cell_type": "markdown",
   "id": "418ccd06",
   "metadata": {
    "heading_collapsed": true
   },
   "source": [
    "# Fonction CO2 par région"
   ]
  },
  {
   "cell_type": "markdown",
   "id": "a62247fc",
   "metadata": {
    "hidden": true
   },
   "source": [
    "On veut ici avoir la possibilité d'ajouter une colone qui sera composé par le consomation de CO2 dans le cas où l'on choisit dans quel pays le data center se trouve"
   ]
  },
  {
   "cell_type": "markdown",
   "id": "ff7c5d61",
   "metadata": {
    "hidden": true
   },
   "source": []
  },
  {
   "cell_type": "code",
   "execution_count": 53,
   "id": "6d8619ed",
   "metadata": {
    "ExecuteTime": {
     "end_time": "2024-06-12T07:12:03.214999Z",
     "start_time": "2024-06-12T07:12:03.201715Z"
    },
    "hidden": true
   },
   "outputs": [],
   "source": [
    "\"\"\"\n",
    "Attention ici il le dataframe entrant devra déja être passé par une des méthodes pour fonctionner.\n",
    "Aussi il serai plus intéressant de faire passer le data frame par la fonction prix pour pouvoir comparer.\n",
    "\"\"\"\n",
    "def co2_per_region(df, df_price, df_geo, df_vm, region) :\n",
    "    df_copy= df.copy()\n",
    "    df_price_copy = df_price.copy()\n",
    "    df_geo_copy=df_geo.copy()\n",
    "    df_vm_copy=df_vm.copy()\n",
    "    \n",
    "    df_copy.loc[:,f'kWh']=0\n",
    "    df_copy.loc[:,f'CO2 (méthode 5) if {region}']=0\n",
    "    df_copy.loc[:,f'price if {region}']=0\n",
    "    \n",
    "    #Calcul C02 pour region spécifique (méthode 5)\n",
    "    \n",
    "    df_m5 = df.copy()\n",
    "        \n",
    "    #Calculs kWh\n",
    "    df_m5 = kWh_vm_met_3(df_m5, df_vm_copy)\n",
    "   \n",
    "    df_m5 = kWh_sto(df_m5)\n",
    "   \n",
    "    df_copy.loc[:,f'kWh']=df_m5['kWh']\n",
    "    \n",
    "    #Ajout CO2/kWh\n",
    "    for i in df_geo_copy['region'].value_counts().index :# Verifier pour les valeures nul si pris en compte\n",
    "        co2= df_geo_copy['ville'][df_geo_copy['region']==region]\n",
    "        co2= co2.iloc[0]#Verifier si nombre\n",
    "        co2 = float(co2.replace(',', '.'))\n",
    "        df_m5.loc[df_m5['region'] == i, 'CO2/kWh'] = co2\n",
    "        \n",
    "    #Calcul CO2\n",
    "    df_m5 = co2_test(df_m5)\n",
    "    \n",
    "    df_copy.loc[:,f'CO2 (méthode 5) if {region}']=df_m5['CO2']\n",
    "    \n",
    "    \n",
    "    \n",
    "    #Calcul prix pour region spécifique\n",
    "    \n",
    "    df_prix = df_m5.copy()\n",
    "    \n",
    "    df_prix.loc[:,'price_final']=0\n",
    "    \n",
    "    for i in df_prix['usageType'][df_prix['serviceCode'].str.lower()=='virtual machines'].unique() :   \n",
    "        for j in df_prix['region'][(df_prix['serviceCode'].str.lower()=='virtual machines') & (df_prix['usageType']==i)].unique():\n",
    "\n",
    "            result=df_price_copy[region][df_price_copy['Name'] == i] #filtrer sur la machine virtuelle\n",
    "            result=result.iloc[0]\n",
    "            result = float(result.replace(',', '.'))\n",
    "            \n",
    "\n",
    "            df_prix.loc[(df_prix['serviceCode'].str.lower()=='virtual machines') & \n",
    "                          (df_prix['usageType'] == i) & \n",
    "                          (df_prix['region'] == j)\n",
    "                          , 'price_final']= result*df_prix['usageQuantity']\n",
    "    df_copy.loc[:,f'price if {region}']=df_prix['price_final']\n",
    "    \n",
    "    df_copy= df_copy.fillna(0)\n",
    "    return df_copy\n",
    "    \n",
    "    "
   ]
  },
  {
   "cell_type": "code",
   "execution_count": 54,
   "id": "41876c52",
   "metadata": {
    "ExecuteTime": {
     "end_time": "2024-06-12T07:12:43.506123Z",
     "start_time": "2024-06-12T07:12:03.214999Z"
    },
    "hidden": true
   },
   "outputs": [],
   "source": [
    "test = co2_per_region(prix_m4_m5, df_price, df_geo, df_vm, 'westeurope')\n",
    "test = co2_per_region(test, df_price, df_geo, df_vm, 'francecentral')\n",
    "test = co2_per_region(test, df_price, df_geo, df_vm, 'northeurope')\n",
    "test = co2_per_region(test, df_price, df_geo, df_vm, 'westus2')"
   ]
  },
  {
   "cell_type": "code",
   "execution_count": 55,
   "id": "e89f5f44",
   "metadata": {
    "ExecuteTime": {
     "end_time": "2024-06-12T07:12:43.510644Z",
     "start_time": "2024-06-12T07:12:43.506123Z"
    },
    "hidden": true
   },
   "outputs": [],
   "source": [
    "#test.to_csv('prix_méthode4_5_per_region.csv', index=False)"
   ]
  },
  {
   "cell_type": "code",
   "execution_count": null,
   "id": "f6d40469",
   "metadata": {
    "ExecuteTime": {
     "end_time": "2024-06-11T13:51:21.803646Z",
     "start_time": "2024-06-11T13:51:11.109705Z"
    },
    "hidden": true
   },
   "outputs": [],
   "source": []
  },
  {
   "cell_type": "code",
   "execution_count": null,
   "id": "094c99f2",
   "metadata": {
    "ExecuteTime": {
     "end_time": "2024-06-11T12:28:02.681713Z",
     "start_time": "2024-06-11T12:28:02.508746Z"
    },
    "hidden": true
   },
   "outputs": [],
   "source": []
  },
  {
   "cell_type": "code",
   "execution_count": null,
   "id": "91dcb867",
   "metadata": {
    "ExecuteTime": {
     "end_time": "2024-06-11T12:26:51.859858Z",
     "start_time": "2024-06-11T12:26:51.830230Z"
    },
    "hidden": true
   },
   "outputs": [],
   "source": []
  },
  {
   "cell_type": "code",
   "execution_count": null,
   "id": "ad4b5231",
   "metadata": {
    "hidden": true
   },
   "outputs": [],
   "source": []
  }
 ],
 "metadata": {
  "kernelspec": {
   "display_name": "Python 3 (ipykernel)",
   "language": "python",
   "name": "python3"
  },
  "language_info": {
   "codemirror_mode": {
    "name": "ipython",
    "version": 3
   },
   "file_extension": ".py",
   "mimetype": "text/x-python",
   "name": "python",
   "nbconvert_exporter": "python",
   "pygments_lexer": "ipython3",
   "version": "3.11.5"
  },
  "toc": {
   "base_numbering": 1,
   "nav_menu": {},
   "number_sections": true,
   "sideBar": true,
   "skip_h1_title": false,
   "title_cell": "Table of Contents",
   "title_sidebar": "Contents",
   "toc_cell": false,
   "toc_position": {},
   "toc_section_display": true,
   "toc_window_display": false
  }
 },
 "nbformat": 4,
 "nbformat_minor": 5
}
